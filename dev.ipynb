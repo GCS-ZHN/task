{
 "cells": [
  {
   "cell_type": "code",
   "execution_count": 1,
   "metadata": {},
   "outputs": [],
   "source": [
    "%load_ext autoreload\n",
    "%autoreload 2"
   ]
  },
  {
   "cell_type": "code",
   "execution_count": 2,
   "metadata": {},
   "outputs": [],
   "source": [
    "# set log level to debug\n",
    "import logging\n",
    "logging.basicConfig(level=logging.DEBUG, format='%(asctime)s - %(name)s - %(levelname)s - %(message)s')"
   ]
  },
  {
   "cell_type": "code",
   "execution_count": 3,
   "metadata": {},
   "outputs": [],
   "source": [
    "from task import VolcengineMLTaskManager"
   ]
  },
  {
   "cell_type": "code",
   "execution_count": 4,
   "metadata": {},
   "outputs": [],
   "source": [
    "volcengine_task_manager = VolcengineMLTaskManager('config/volc_mltask.yaml')"
   ]
  },
  {
   "cell_type": "code",
   "execution_count": 23,
   "metadata": {},
   "outputs": [
    {
     "name": "stderr",
     "output_type": "stream",
     "text": [
      "2024-02-26 19:28:58,328 - urllib3.connectionpool - DEBUG - Starting new HTTP connection (1): open.volcengineapi.com:80\n",
      "2024-02-26 19:29:00,422 - urllib3.connectionpool - DEBUG - http://open.volcengineapi.com:80 \"POST /?Action=CreateCustomTask&Version=2021-10-01 HTTP/1.1\" 200 None\n",
      "2024-02-26 19:29:00,523 - urllib3.connectionpool - DEBUG - http://open.volcengineapi.com:80 \"POST /?Action=GetCustomTask&Version=2021-10-01 HTTP/1.1\" 200 None\n",
      "2024-02-26 19:29:00,659 - urllib3.connectionpool - DEBUG - http://open.volcengineapi.com:80 \"POST /?Action=GetCustomTask&Version=2021-10-01 HTTP/1.1\" 200 None\n",
      "2024-02-26 19:29:00,662 - task.base - DEBUG - Task 20240226-192858-8171 is TaskStatus.PENDING, waiting for afternotok to submit task 20240226-192858-5277\n",
      "2024-02-26 19:29:01,577 - urllib3.connectionpool - DEBUG - http://open.volcengineapi.com:80 \"POST /?Action=GetCustomTask&Version=2021-10-01 HTTP/1.1\" 200 None\n",
      "2024-02-26 19:29:01,722 - urllib3.connectionpool - DEBUG - http://open.volcengineapi.com:80 \"POST /?Action=GetCustomTask&Version=2021-10-01 HTTP/1.1\" 200 None\n",
      "2024-02-26 19:29:01,724 - task.base - DEBUG - Task 20240226-192858-8171 is TaskStatus.PENDING, waiting for afternotok to submit task 20240226-192858-5277\n",
      "2024-02-26 19:29:02,627 - urllib3.connectionpool - DEBUG - http://open.volcengineapi.com:80 \"POST /?Action=GetCustomTask&Version=2021-10-01 HTTP/1.1\" 200 None\n",
      "2024-02-26 19:29:02,786 - urllib3.connectionpool - DEBUG - http://open.volcengineapi.com:80 \"POST /?Action=GetCustomTask&Version=2021-10-01 HTTP/1.1\" 200 None\n",
      "2024-02-26 19:29:02,788 - task.base - DEBUG - Task 20240226-192858-8171 is TaskStatus.PENDING, waiting for afternotok to submit task 20240226-192858-5277\n",
      "2024-02-26 19:29:03,684 - urllib3.connectionpool - DEBUG - http://open.volcengineapi.com:80 \"POST /?Action=GetCustomTask&Version=2021-10-01 HTTP/1.1\" 200 None\n",
      "2024-02-26 19:29:03,857 - urllib3.connectionpool - DEBUG - http://open.volcengineapi.com:80 \"POST /?Action=GetCustomTask&Version=2021-10-01 HTTP/1.1\" 200 None\n",
      "2024-02-26 19:29:03,860 - task.base - DEBUG - Task 20240226-192858-8171 is TaskStatus.PENDING, waiting for afternotok to submit task 20240226-192858-5277\n",
      "2024-02-26 19:29:04,742 - urllib3.connectionpool - DEBUG - http://open.volcengineapi.com:80 \"POST /?Action=GetCustomTask&Version=2021-10-01 HTTP/1.1\" 200 None\n",
      "2024-02-26 19:29:04,917 - urllib3.connectionpool - DEBUG - http://open.volcengineapi.com:80 \"POST /?Action=GetCustomTask&Version=2021-10-01 HTTP/1.1\" 200 None\n",
      "2024-02-26 19:29:04,919 - task.base - DEBUG - Task 20240226-192858-8171 is TaskStatus.PENDING, waiting for afternotok to submit task 20240226-192858-5277\n",
      "2024-02-26 19:29:05,791 - urllib3.connectionpool - DEBUG - http://open.volcengineapi.com:80 \"POST /?Action=GetCustomTask&Version=2021-10-01 HTTP/1.1\" 200 None\n",
      "2024-02-26 19:29:05,992 - urllib3.connectionpool - DEBUG - http://open.volcengineapi.com:80 \"POST /?Action=GetCustomTask&Version=2021-10-01 HTTP/1.1\" 200 None\n",
      "2024-02-26 19:29:05,995 - task.base - DEBUG - Task 20240226-192858-8171 is TaskStatus.PENDING, waiting for afternotok to submit task 20240226-192858-5277\n",
      "2024-02-26 19:29:06,852 - urllib3.connectionpool - DEBUG - http://open.volcengineapi.com:80 \"POST /?Action=GetCustomTask&Version=2021-10-01 HTTP/1.1\" 200 None\n",
      "2024-02-26 19:29:07,053 - urllib3.connectionpool - DEBUG - http://open.volcengineapi.com:80 \"POST /?Action=GetCustomTask&Version=2021-10-01 HTTP/1.1\" 200 None\n",
      "2024-02-26 19:29:07,056 - task.base - DEBUG - Task 20240226-192858-8171 is TaskStatus.PENDING, waiting for afternotok to submit task 20240226-192858-5277\n",
      "2024-02-26 19:29:07,903 - urllib3.connectionpool - DEBUG - http://open.volcengineapi.com:80 \"POST /?Action=GetCustomTask&Version=2021-10-01 HTTP/1.1\" 200 None\n",
      "2024-02-26 19:29:08,111 - urllib3.connectionpool - DEBUG - http://open.volcengineapi.com:80 \"POST /?Action=GetCustomTask&Version=2021-10-01 HTTP/1.1\" 200 None\n",
      "2024-02-26 19:29:08,114 - task.base - DEBUG - Task 20240226-192858-8171 is TaskStatus.PENDING, waiting for afternotok to submit task 20240226-192858-5277\n",
      "2024-02-26 19:29:08,957 - urllib3.connectionpool - DEBUG - http://open.volcengineapi.com:80 \"POST /?Action=GetCustomTask&Version=2021-10-01 HTTP/1.1\" 200 None\n",
      "2024-02-26 19:29:09,178 - urllib3.connectionpool - DEBUG - http://open.volcengineapi.com:80 \"POST /?Action=GetCustomTask&Version=2021-10-01 HTTP/1.1\" 200 None\n",
      "2024-02-26 19:29:09,180 - task.base - DEBUG - Task 20240226-192858-8171 is TaskStatus.PENDING, waiting for afternotok to submit task 20240226-192858-5277\n",
      "2024-02-26 19:29:10,005 - urllib3.connectionpool - DEBUG - http://open.volcengineapi.com:80 \"POST /?Action=GetCustomTask&Version=2021-10-01 HTTP/1.1\" 200 None\n",
      "2024-02-26 19:29:10,234 - urllib3.connectionpool - DEBUG - http://open.volcengineapi.com:80 \"POST /?Action=GetCustomTask&Version=2021-10-01 HTTP/1.1\" 200 None\n",
      "2024-02-26 19:29:10,235 - task.base - DEBUG - Task 20240226-192858-8171 is TaskStatus.PENDING, waiting for afternotok to submit task 20240226-192858-5277\n",
      "2024-02-26 19:29:11,054 - urllib3.connectionpool - DEBUG - http://open.volcengineapi.com:80 \"POST /?Action=GetCustomTask&Version=2021-10-01 HTTP/1.1\" 200 None\n",
      "2024-02-26 19:29:11,295 - urllib3.connectionpool - DEBUG - http://open.volcengineapi.com:80 \"POST /?Action=GetCustomTask&Version=2021-10-01 HTTP/1.1\" 200 None\n",
      "2024-02-26 19:29:11,297 - task.base - DEBUG - Task 20240226-192858-8171 is TaskStatus.PENDING, waiting for afternotok to submit task 20240226-192858-5277\n",
      "2024-02-26 19:29:12,108 - urllib3.connectionpool - DEBUG - http://open.volcengineapi.com:80 \"POST /?Action=GetCustomTask&Version=2021-10-01 HTTP/1.1\" 200 None\n",
      "2024-02-26 19:29:12,351 - urllib3.connectionpool - DEBUG - http://open.volcengineapi.com:80 \"POST /?Action=GetCustomTask&Version=2021-10-01 HTTP/1.1\" 200 None\n",
      "2024-02-26 19:29:12,353 - task.base - DEBUG - Task 20240226-192858-8171 is TaskStatus.PENDING, waiting for afternotok to submit task 20240226-192858-5277\n",
      "2024-02-26 19:29:13,158 - urllib3.connectionpool - DEBUG - http://open.volcengineapi.com:80 \"POST /?Action=GetCustomTask&Version=2021-10-01 HTTP/1.1\" 200 None\n",
      "2024-02-26 19:29:13,409 - urllib3.connectionpool - DEBUG - http://open.volcengineapi.com:80 \"POST /?Action=GetCustomTask&Version=2021-10-01 HTTP/1.1\" 200 None\n",
      "2024-02-26 19:29:13,410 - task.base - DEBUG - Task 20240226-192858-8171 is TaskStatus.PENDING, waiting for afternotok to submit task 20240226-192858-5277\n",
      "2024-02-26 19:29:14,212 - urllib3.connectionpool - DEBUG - http://open.volcengineapi.com:80 \"POST /?Action=GetCustomTask&Version=2021-10-01 HTTP/1.1\" 200 None\n",
      "2024-02-26 19:29:14,465 - urllib3.connectionpool - DEBUG - http://open.volcengineapi.com:80 \"POST /?Action=GetCustomTask&Version=2021-10-01 HTTP/1.1\" 200 None\n",
      "2024-02-26 19:29:14,468 - task.base - DEBUG - Task 20240226-192858-8171 is TaskStatus.PENDING, waiting for afternotok to submit task 20240226-192858-5277\n",
      "2024-02-26 19:29:15,258 - urllib3.connectionpool - DEBUG - http://open.volcengineapi.com:80 \"POST /?Action=GetCustomTask&Version=2021-10-01 HTTP/1.1\" 200 None\n",
      "2024-02-26 19:29:15,531 - urllib3.connectionpool - DEBUG - http://open.volcengineapi.com:80 \"POST /?Action=GetCustomTask&Version=2021-10-01 HTTP/1.1\" 200 None\n",
      "2024-02-26 19:29:15,533 - task.base - DEBUG - Task 20240226-192858-8171 is TaskStatus.PENDING, waiting for afternotok to submit task 20240226-192858-5277\n",
      "2024-02-26 19:29:16,350 - urllib3.connectionpool - DEBUG - http://open.volcengineapi.com:80 \"POST /?Action=GetCustomTask&Version=2021-10-01 HTTP/1.1\" 200 None\n",
      "2024-02-26 19:29:16,591 - urllib3.connectionpool - DEBUG - http://open.volcengineapi.com:80 \"POST /?Action=GetCustomTask&Version=2021-10-01 HTTP/1.1\" 200 None\n",
      "2024-02-26 19:29:16,594 - task.base - DEBUG - Task 20240226-192858-8171 is TaskStatus.RUNNING, waiting for afternotok to submit task 20240226-192858-5277\n",
      "2024-02-26 19:29:17,397 - urllib3.connectionpool - DEBUG - http://open.volcengineapi.com:80 \"POST /?Action=GetCustomTask&Version=2021-10-01 HTTP/1.1\" 200 None\n",
      "2024-02-26 19:29:17,650 - urllib3.connectionpool - DEBUG - http://open.volcengineapi.com:80 \"POST /?Action=GetCustomTask&Version=2021-10-01 HTTP/1.1\" 200 None\n",
      "2024-02-26 19:29:17,653 - task.base - DEBUG - Task 20240226-192858-8171 is TaskStatus.RUNNING, waiting for afternotok to submit task 20240226-192858-5277\n",
      "2024-02-26 19:29:18,452 - urllib3.connectionpool - DEBUG - http://open.volcengineapi.com:80 \"POST /?Action=GetCustomTask&Version=2021-10-01 HTTP/1.1\" 200 None\n",
      "2024-02-26 19:29:18,708 - urllib3.connectionpool - DEBUG - http://open.volcengineapi.com:80 \"POST /?Action=GetCustomTask&Version=2021-10-01 HTTP/1.1\" 200 None\n",
      "2024-02-26 19:29:18,710 - task.base - DEBUG - Task 20240226-192858-8171 is TaskStatus.RUNNING, waiting for afternotok to submit task 20240226-192858-5277\n",
      "2024-02-26 19:29:19,501 - urllib3.connectionpool - DEBUG - http://open.volcengineapi.com:80 \"POST /?Action=GetCustomTask&Version=2021-10-01 HTTP/1.1\" 200 None\n",
      "2024-02-26 19:29:19,769 - urllib3.connectionpool - DEBUG - http://open.volcengineapi.com:80 \"POST /?Action=GetCustomTask&Version=2021-10-01 HTTP/1.1\" 200 None\n",
      "2024-02-26 19:29:19,771 - task.base - DEBUG - Task 20240226-192858-8171 is TaskStatus.RUNNING, waiting for afternotok to submit task 20240226-192858-5277\n",
      "2024-02-26 19:29:20,560 - urllib3.connectionpool - DEBUG - http://open.volcengineapi.com:80 \"POST /?Action=GetCustomTask&Version=2021-10-01 HTTP/1.1\" 200 None\n",
      "2024-02-26 19:29:20,836 - urllib3.connectionpool - DEBUG - http://open.volcengineapi.com:80 \"POST /?Action=GetCustomTask&Version=2021-10-01 HTTP/1.1\" 200 None\n",
      "2024-02-26 19:29:20,838 - task.base - DEBUG - Task 20240226-192858-8171 is TaskStatus.RUNNING, waiting for afternotok to submit task 20240226-192858-5277\n",
      "2024-02-26 19:29:21,615 - urllib3.connectionpool - DEBUG - http://open.volcengineapi.com:80 \"POST /?Action=GetCustomTask&Version=2021-10-01 HTTP/1.1\" 200 None\n",
      "2024-02-26 19:29:21,902 - urllib3.connectionpool - DEBUG - http://open.volcengineapi.com:80 \"POST /?Action=GetCustomTask&Version=2021-10-01 HTTP/1.1\" 200 None\n",
      "2024-02-26 19:29:21,905 - task.base - DEBUG - Task 20240226-192858-8171 is TaskStatus.RUNNING, waiting for afternotok to submit task 20240226-192858-5277\n",
      "2024-02-26 19:29:22,667 - urllib3.connectionpool - DEBUG - http://open.volcengineapi.com:80 \"POST /?Action=GetCustomTask&Version=2021-10-01 HTTP/1.1\" 200 None\n",
      "2024-02-26 19:29:22,963 - urllib3.connectionpool - DEBUG - http://open.volcengineapi.com:80 \"POST /?Action=GetCustomTask&Version=2021-10-01 HTTP/1.1\" 200 None\n",
      "2024-02-26 19:29:22,966 - task.base - DEBUG - Task 20240226-192858-8171 is TaskStatus.RUNNING, waiting for afternotok to submit task 20240226-192858-5277\n",
      "2024-02-26 19:29:23,720 - urllib3.connectionpool - DEBUG - http://open.volcengineapi.com:80 \"POST /?Action=GetCustomTask&Version=2021-10-01 HTTP/1.1\" 200 None\n",
      "2024-02-26 19:29:24,020 - urllib3.connectionpool - DEBUG - http://open.volcengineapi.com:80 \"POST /?Action=GetCustomTask&Version=2021-10-01 HTTP/1.1\" 200 None\n",
      "2024-02-26 19:29:24,023 - task.base - DEBUG - Task 20240226-192858-8171 is TaskStatus.RUNNING, waiting for afternotok to submit task 20240226-192858-5277\n",
      "2024-02-26 19:29:24,768 - urllib3.connectionpool - DEBUG - http://open.volcengineapi.com:80 \"POST /?Action=GetCustomTask&Version=2021-10-01 HTTP/1.1\" 200 None\n",
      "2024-02-26 19:29:25,081 - urllib3.connectionpool - DEBUG - http://open.volcengineapi.com:80 \"POST /?Action=GetCustomTask&Version=2021-10-01 HTTP/1.1\" 200 None\n",
      "2024-02-26 19:29:25,082 - task.base - DEBUG - Task 20240226-192858-8171 is TaskStatus.RUNNING, waiting for afternotok to submit task 20240226-192858-5277\n",
      "2024-02-26 19:29:25,819 - urllib3.connectionpool - DEBUG - http://open.volcengineapi.com:80 \"POST /?Action=GetCustomTask&Version=2021-10-01 HTTP/1.1\" 200 None\n",
      "2024-02-26 19:29:26,140 - urllib3.connectionpool - DEBUG - http://open.volcengineapi.com:80 \"POST /?Action=GetCustomTask&Version=2021-10-01 HTTP/1.1\" 200 None\n",
      "2024-02-26 19:29:26,143 - task.base - DEBUG - Task 20240226-192858-8171 is TaskStatus.RUNNING, waiting for afternotok to submit task 20240226-192858-5277\n",
      "2024-02-26 19:29:26,870 - urllib3.connectionpool - DEBUG - http://open.volcengineapi.com:80 \"POST /?Action=GetCustomTask&Version=2021-10-01 HTTP/1.1\" 200 None\n",
      "2024-02-26 19:29:27,206 - urllib3.connectionpool - DEBUG - http://open.volcengineapi.com:80 \"POST /?Action=GetCustomTask&Version=2021-10-01 HTTP/1.1\" 200 None\n",
      "2024-02-26 19:29:27,209 - task.base - DEBUG - Task 20240226-192858-8171 is TaskStatus.RUNNING, waiting for afternotok to submit task 20240226-192858-5277\n",
      "2024-02-26 19:29:27,918 - urllib3.connectionpool - DEBUG - http://open.volcengineapi.com:80 \"POST /?Action=GetCustomTask&Version=2021-10-01 HTTP/1.1\" 200 None\n",
      "2024-02-26 19:29:28,269 - urllib3.connectionpool - DEBUG - http://open.volcengineapi.com:80 \"POST /?Action=GetCustomTask&Version=2021-10-01 HTTP/1.1\" 200 None\n",
      "2024-02-26 19:29:28,271 - task.base - DEBUG - Task 20240226-192858-8171 is TaskStatus.RUNNING, waiting for afternotok to submit task 20240226-192858-5277\n",
      "2024-02-26 19:29:28,976 - urllib3.connectionpool - DEBUG - http://open.volcengineapi.com:80 \"POST /?Action=GetCustomTask&Version=2021-10-01 HTTP/1.1\" 200 None\n",
      "2024-02-26 19:29:29,332 - urllib3.connectionpool - DEBUG - http://open.volcengineapi.com:80 \"POST /?Action=GetCustomTask&Version=2021-10-01 HTTP/1.1\" 200 None\n",
      "2024-02-26 19:29:29,334 - task.base - DEBUG - Task 20240226-192858-8171 is TaskStatus.RUNNING, waiting for afternotok to submit task 20240226-192858-5277\n",
      "2024-02-26 19:29:30,029 - urllib3.connectionpool - DEBUG - http://open.volcengineapi.com:80 \"POST /?Action=GetCustomTask&Version=2021-10-01 HTTP/1.1\" 200 None\n",
      "2024-02-26 19:29:30,390 - urllib3.connectionpool - DEBUG - http://open.volcengineapi.com:80 \"POST /?Action=GetCustomTask&Version=2021-10-01 HTTP/1.1\" 200 None\n",
      "2024-02-26 19:29:30,393 - task.base - DEBUG - Task 20240226-192858-8171 is TaskStatus.RUNNING, waiting for afternotok to submit task 20240226-192858-5277\n",
      "2024-02-26 19:29:31,080 - urllib3.connectionpool - DEBUG - http://open.volcengineapi.com:80 \"POST /?Action=GetCustomTask&Version=2021-10-01 HTTP/1.1\" 200 None\n",
      "2024-02-26 19:29:31,450 - urllib3.connectionpool - DEBUG - http://open.volcengineapi.com:80 \"POST /?Action=GetCustomTask&Version=2021-10-01 HTTP/1.1\" 200 None\n",
      "2024-02-26 19:29:31,454 - task.base - DEBUG - Task 20240226-192858-8171 is TaskStatus.RUNNING, waiting for afternotok to submit task 20240226-192858-5277\n",
      "2024-02-26 19:29:32,129 - urllib3.connectionpool - DEBUG - http://open.volcengineapi.com:80 \"POST /?Action=GetCustomTask&Version=2021-10-01 HTTP/1.1\" 200 None\n",
      "2024-02-26 19:29:32,516 - urllib3.connectionpool - DEBUG - http://open.volcengineapi.com:80 \"POST /?Action=GetCustomTask&Version=2021-10-01 HTTP/1.1\" 200 None\n",
      "2024-02-26 19:29:33,366 - urllib3.connectionpool - DEBUG - http://open.volcengineapi.com:80 \"POST /?Action=CreateCustomTask&Version=2021-10-01 HTTP/1.1\" 200 None\n",
      "2024-02-26 19:29:33,433 - urllib3.connectionpool - DEBUG - http://open.volcengineapi.com:80 \"POST /?Action=GetCustomTask&Version=2021-10-01 HTTP/1.1\" 200 None\n"
     ]
    },
    {
     "data": {
      "text/plain": [
       "<TaskStatus.FAILED: 4>"
      ]
     },
     "execution_count": 23,
     "metadata": {},
     "output_type": "execute_result"
    }
   ],
   "source": [
    "task_id1 = volcengine_task_manager.submit(\n",
    "    'test_task_1',\n",
    "    'nvidia-smi; ls /vepfs-mlp/hongning.zhang -hla; exit 1'\n",
    ")\n",
    "task_id2 = volcengine_task_manager.submit(\n",
    "    'test_task_2',\n",
    "    'nvidia-smi; ls /vepfs-mlp/hongning.zhang -hla; echo ok',\n",
    "    dependencies={\n",
    "        'afternotok': task_id1\n",
    "    }\n",
    ")\n",
    "volcengine_task_manager.wait(task_id1)"
   ]
  },
  {
   "cell_type": "code",
   "execution_count": 8,
   "metadata": {},
   "outputs": [],
   "source": [
    "from task.base import TaskStatus\n",
    "\n",
    "task_id1 = volcengine_task_manager.submit(\n",
    "    name=\"test_depes_afterok_1\",\n",
    "    entrypoint_path=\"nvidia-smi; sleep 5; echo ok\",\n",
    ")\n",
    "task_id2 = volcengine_task_manager.submit(\n",
    "    name=\"test_depes_afterok_2\",\n",
    "    entrypoint_path=\"nvidia-smi; sleep 1; echo ok\",\n",
    "    dependencies={\"afterok\": task_id1}\n",
    ")\n",
    "assert task_id1 is not None\n",
    "assert task_id2 is not None\n",
    "assert volcengine_task_manager.wait(\n",
    "    task_id1, waiting_status=(TaskStatus.PENDING,)) == TaskStatus.RUNNING"
   ]
  },
  {
   "cell_type": "code",
   "execution_count": 9,
   "metadata": {},
   "outputs": [],
   "source": [
    "assert volcengine_task_manager.status(task_id2) == TaskStatus.PENDING\n",
    "assert volcengine_task_manager.wait(task_id2) == TaskStatus.COMPLETED"
   ]
  },
  {
   "cell_type": "code",
   "execution_count": 3,
   "metadata": {},
   "outputs": [],
   "source": [
    "from task.slurm import SlurmTaskManager\n",
    "slurm_task_manager = SlurmTaskManager('config/slurm_task.yaml')"
   ]
  },
  {
   "cell_type": "code",
   "execution_count": 60,
   "metadata": {},
   "outputs": [],
   "source": [
    "jobid=slurm_task_manager.submit(\n",
    "    'test_task',\n",
    "    'nvidia-smi; sleep 80; exit 1',\n",
    "    partitions='gpu',\n",
    ")"
   ]
  },
  {
   "cell_type": "code",
   "execution_count": 65,
   "metadata": {},
   "outputs": [],
   "source": [
    "jobid=slurm_task_manager.submit(\n",
    "    'test_task',\n",
    "    'nvidia-smi',\n",
    "    partitions='gpu',\n",
    "    dependencies={\n",
    "        'after': 42670\n",
    "    }\n",
    ")"
   ]
  },
  {
   "cell_type": "code",
   "execution_count": 66,
   "metadata": {},
   "outputs": [
    {
     "data": {
      "text/html": [
       "<div>\n",
       "<style scoped>\n",
       "    .dataframe tbody tr th:only-of-type {\n",
       "        vertical-align: middle;\n",
       "    }\n",
       "\n",
       "    .dataframe tbody tr th {\n",
       "        vertical-align: top;\n",
       "    }\n",
       "\n",
       "    .dataframe thead th {\n",
       "        text-align: right;\n",
       "    }\n",
       "</style>\n",
       "<table border=\"1\" class=\"dataframe\">\n",
       "  <thead>\n",
       "    <tr style=\"text-align: right;\">\n",
       "      <th></th>\n",
       "      <th>name</th>\n",
       "      <th>entrypoint_path</th>\n",
       "      <th>status</th>\n",
       "    </tr>\n",
       "    <tr>\n",
       "      <th>task_id</th>\n",
       "      <th></th>\n",
       "      <th></th>\n",
       "      <th></th>\n",
       "    </tr>\n",
       "  </thead>\n",
       "  <tbody>\n",
       "    <tr>\n",
       "      <th>42670</th>\n",
       "      <td>test_task</td>\n",
       "      <td>nvidia-smi; sleep 80; exit 1</td>\n",
       "      <td>TaskStatus.FAILED</td>\n",
       "    </tr>\n",
       "    <tr>\n",
       "      <th>42671</th>\n",
       "      <td>test_task</td>\n",
       "      <td>nvidia-smi</td>\n",
       "      <td>TaskStatus.PENDING</td>\n",
       "    </tr>\n",
       "    <tr>\n",
       "      <th>42672</th>\n",
       "      <td>test_task</td>\n",
       "      <td>nvidia-smi</td>\n",
       "      <td>TaskStatus.COMPLETED</td>\n",
       "    </tr>\n",
       "  </tbody>\n",
       "</table>\n",
       "</div>"
      ],
      "text/plain": [
       "              name               entrypoint_path                status\n",
       "task_id                                                               \n",
       "42670    test_task  nvidia-smi; sleep 80; exit 1     TaskStatus.FAILED\n",
       "42671    test_task                    nvidia-smi    TaskStatus.PENDING\n",
       "42672    test_task                    nvidia-smi  TaskStatus.COMPLETED"
      ]
     },
     "execution_count": 66,
     "metadata": {},
     "output_type": "execute_result"
    }
   ],
   "source": [
    "slurm_task_manager.list()"
   ]
  },
  {
   "cell_type": "code",
   "execution_count": 68,
   "metadata": {},
   "outputs": [],
   "source": [
    "slurm_task_manager.cancel(42671)"
   ]
  },
  {
   "cell_type": "code",
   "execution_count": null,
   "metadata": {},
   "outputs": [],
   "source": [
    "slurm_task_manager.cancel(jobid)\n",
    "slurm_task_manager.list()\n",
    "slurm_task_manager.wait(jobid)"
   ]
  },
  {
   "cell_type": "code",
   "execution_count": 6,
   "metadata": {},
   "outputs": [
    {
     "name": "stdout",
     "output_type": "stream",
     "text": [
      "42691\n",
      "             JOBID PARTITION     NAME     USER ST       TIME  NODES NODELIST(REASON)\n",
      "             42691       gpu test_can hongning PD       0:00      1 (None)\n"
     ]
    }
   ],
   "source": [
    "task_id = slurm_task_manager.submit(\n",
    "            name=\"test_cancel_task\",\n",
    "            entrypoint_path=\"nvidia-smi; sleep 1; echo notok\")\n",
    "print(task_id)\n",
    "!/data/slurm/bin/squeue -u hongning.zhang"
   ]
  }
 ],
 "metadata": {
  "kernelspec": {
   "display_name": "base",
   "language": "python",
   "name": "python3"
  },
  "language_info": {
   "codemirror_mode": {
    "name": "ipython",
    "version": 3
   },
   "file_extension": ".py",
   "mimetype": "text/x-python",
   "name": "python",
   "nbconvert_exporter": "python",
   "pygments_lexer": "ipython3",
   "version": "3.8.18"
  }
 },
 "nbformat": 4,
 "nbformat_minor": 2
}
