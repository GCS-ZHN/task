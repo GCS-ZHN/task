{
 "cells": [
  {
   "cell_type": "code",
   "execution_count": 9,
   "metadata": {},
   "outputs": [
    {
     "name": "stdout",
     "output_type": "stream",
     "text": [
      "The autoreload extension is already loaded. To reload it, use:\n",
      "  %reload_ext autoreload\n"
     ]
    }
   ],
   "source": [
    "%load_ext autoreload\n",
    "%autoreload 2"
   ]
  },
  {
   "cell_type": "code",
   "execution_count": 10,
   "metadata": {},
   "outputs": [],
   "source": [
    "# set log level to debug\n",
    "import logging\n",
    "logging.basicConfig(level=logging.DEBUG, format='%(asctime)s - %(name)s - %(levelname)s - %(message)s')"
   ]
  },
  {
   "cell_type": "code",
   "execution_count": 11,
   "metadata": {},
   "outputs": [],
   "source": [
    "from task import VolcengineMLTaskManager"
   ]
  },
  {
   "cell_type": "code",
   "execution_count": 13,
   "metadata": {},
   "outputs": [
    {
     "name": "stderr",
     "output_type": "stream",
     "text": [
      "2024-03-05 14:43:05,662 - task.base - DEBUG - VolcengineMLTaskManager is shutdown\n"
     ]
    }
   ],
   "source": [
    "volcengine_task_manager = VolcengineMLTaskManager('config/volc_mltask.yaml')"
   ]
  },
  {
   "cell_type": "code",
   "execution_count": 15,
   "metadata": {},
   "outputs": [
    {
     "data": {
      "text/plain": [
       "'20240305-144559-7825'"
      ]
     },
     "execution_count": 15,
     "metadata": {},
     "output_type": "execute_result"
    }
   ],
   "source": [
    "volcengine_task_manager.submit(\n",
    "    name='colabfold-test',\n",
    "    entrypoint_path='ls ~/.cache/colabfold; colabfold_batch -h',\n",
    ")"
   ]
  },
  {
   "cell_type": "code",
   "execution_count": 8,
   "metadata": {},
   "outputs": [
    {
     "data": {
      "text/plain": [
       "'20240305-143307-3528'"
      ]
     },
     "execution_count": 8,
     "metadata": {},
     "output_type": "execute_result"
    }
   ],
   "source": [
    "volcengine_task_manager.submit(\n",
    "    name='network-test',\n",
    "    entrypoint_path='curl -I https://www.baidu.com',\n",
    ")"
   ]
  },
  {
   "cell_type": "code",
   "execution_count": 9,
   "metadata": {},
   "outputs": [
    {
     "name": "stderr",
     "output_type": "stream",
     "text": [
      "2024-02-28 11:26:41,776 - tos.auth - DEBUG - pre-request: canonical_request:\n",
      "PUT\n",
      "/scripts/66adc1cc3389771f1786e32ad33cfb65588cb4e24a7cc0bbf2ad15289770b295\n",
      "\n",
      "content-type:binary/octet-stream\n",
      "host:xtalpi-mlp.tos-cn-beijing.volces.com\n",
      "x-tos-content-sha256:UNSIGNED-PAYLOAD\n",
      "x-tos-date:20240228T032641Z\n",
      "\n",
      "content-type;host;x-tos-content-sha256;x-tos-date\n",
      "UNSIGNED-PAYLOAD\n",
      "2024-02-28 11:26:41,780 - tos.auth - DEBUG - pre-request: string_to_sign:\n",
      "TOS4-HMAC-SHA256\n",
      "20240228T032641Z\n",
      "20240228/cn-beijing/tos/request\n",
      "bbb0242aee52ec0f067cb5c4b0a0c46814543dbe0b595712c63bf79ba8c5d119\n",
      "2024-02-28 11:26:41,784 - tos.auth - DEBUG - pre-request: signature:\n",
      "93d89c75ad63da7fd20cbd481cb4efd84cdf48cb915827abf3bcd7d09f71e360\n",
      "2024-02-28 11:26:41,788 - urllib3.connectionpool - DEBUG - Starting new HTTPS connection (1): xtalpi-mlp.tos-cn-beijing.volces.com:443\n",
      "2024-02-28 11:26:42,063 - urllib3.connectionpool - DEBUG - https://xtalpi-mlp.tos-cn-beijing.volces.com:443 \"PUT /scripts/66adc1cc3389771f1786e32ad33cfb65588cb4e24a7cc0bbf2ad15289770b295 HTTP/1.1\" 200 0\n",
      "2024-02-28 11:26:42,065 - tos.clientv2 - DEBUG - in-request: method:PUT host:https://xtalpi-mlp.tos-cn-beijing.volces.com/scripts/66adc1cc3389771f1786e32ad33cfb65588cb4e24a7cc0bbf2ad15289770b295 requestURI:/scripts/66adc1cc3389771f1786e32ad33cfb65588cb4e24a7cc0bbf2ad15289770b295 used time: 0.278945\n",
      "2024-02-28 11:26:42,066 - tos.utils - INFO - after-request: put_object exec httpCode: 200, requestId: 6e7201dea7f1f11a65dea7f1-b164f32-1rfAaf-PuO-cb-tos-front-azb-1, usedTime: 0.2807300202548504 s\n",
      "2024-02-28 11:26:42,068 - tos.auth - DEBUG - pre-request: canonical_request:\n",
      "PUT\n",
      "/scripts/manifest/f936c42d1ffd446035df1dbda4352049e542563addb1a2687965a4582a11009e.manifest\n",
      "\n",
      "content-type:binary/octet-stream\n",
      "host:xtalpi-mlp.tos-cn-beijing.volces.com\n",
      "x-tos-content-sha256:UNSIGNED-PAYLOAD\n",
      "x-tos-date:20240228T032642Z\n",
      "\n",
      "content-type;host;x-tos-content-sha256;x-tos-date\n",
      "UNSIGNED-PAYLOAD\n",
      "2024-02-28 11:26:42,068 - tos.auth - DEBUG - pre-request: string_to_sign:\n",
      "TOS4-HMAC-SHA256\n",
      "20240228T032642Z\n",
      "20240228/cn-beijing/tos/request\n",
      "1058693a920a5fbae56dfe115c3a4b7331f66398d4729c1d49cba115522c0b83\n",
      "2024-02-28 11:26:42,069 - tos.auth - DEBUG - pre-request: signature:\n",
      "c58299fb5a7a5eca74f339daa5c1d7dc7a8895610aec2014807635cfc11ef8c1\n",
      "2024-02-28 11:26:42,166 - urllib3.connectionpool - DEBUG - https://xtalpi-mlp.tos-cn-beijing.volces.com:443 \"PUT /scripts/manifest/f936c42d1ffd446035df1dbda4352049e542563addb1a2687965a4582a11009e.manifest HTTP/1.1\" 200 0\n",
      "2024-02-28 11:26:42,168 - tos.clientv2 - DEBUG - in-request: method:PUT host:https://xtalpi-mlp.tos-cn-beijing.volces.com/scripts/manifest/f936c42d1ffd446035df1dbda4352049e542563addb1a2687965a4582a11009e.manifest requestURI:/scripts/manifest/f936c42d1ffd446035df1dbda4352049e542563addb1a2687965a4582a11009e.manifest used time: 0.098374\n",
      "2024-02-28 11:26:42,170 - tos.utils - INFO - after-request: put_object exec httpCode: 200, requestId: 6e7201dea7f2f12865dea7f2-b164f32-1rfAag-PuO-cb-tos-front-azb-1, usedTime: 0.10080381482839584 s\n",
      "2024-02-28 11:26:42,174 - urllib3.connectionpool - DEBUG - Starting new HTTP connection (1): open.volcengineapi.com:80\n",
      "2024-02-28 11:26:43,077 - urllib3.connectionpool - DEBUG - http://open.volcengineapi.com:80 \"POST /?Action=CreateCustomTask&Version=2021-10-01 HTTP/1.1\" 200 None\n",
      "2024-02-28 11:26:43,213 - urllib3.connectionpool - DEBUG - http://open.volcengineapi.com:80 \"POST /?Action=GetCustomTask&Version=2021-10-01 HTTP/1.1\" 200 None\n",
      "2024-02-28 11:26:44,327 - urllib3.connectionpool - DEBUG - http://open.volcengineapi.com:80 \"POST /?Action=GetCustomTask&Version=2021-10-01 HTTP/1.1\" 200 None\n",
      "2024-02-28 11:26:45,452 - urllib3.connectionpool - DEBUG - http://open.volcengineapi.com:80 \"POST /?Action=GetCustomTask&Version=2021-10-01 HTTP/1.1\" 200 None\n",
      "2024-02-28 11:26:46,513 - urllib3.connectionpool - DEBUG - http://open.volcengineapi.com:80 \"POST /?Action=GetCustomTask&Version=2021-10-01 HTTP/1.1\" 200 None\n",
      "2024-02-28 11:26:47,678 - urllib3.connectionpool - DEBUG - http://open.volcengineapi.com:80 \"POST /?Action=GetCustomTask&Version=2021-10-01 HTTP/1.1\" 200 None\n",
      "2024-02-28 11:26:48,788 - urllib3.connectionpool - DEBUG - http://open.volcengineapi.com:80 \"POST /?Action=GetCustomTask&Version=2021-10-01 HTTP/1.1\" 200 None\n",
      "2024-02-28 11:26:49,922 - urllib3.connectionpool - DEBUG - http://open.volcengineapi.com:80 \"POST /?Action=GetCustomTask&Version=2021-10-01 HTTP/1.1\" 200 None\n",
      "2024-02-28 11:26:51,033 - urllib3.connectionpool - DEBUG - http://open.volcengineapi.com:80 \"POST /?Action=GetCustomTask&Version=2021-10-01 HTTP/1.1\" 200 None\n",
      "2024-02-28 11:26:52,184 - urllib3.connectionpool - DEBUG - http://open.volcengineapi.com:80 \"POST /?Action=GetCustomTask&Version=2021-10-01 HTTP/1.1\" 200 None\n",
      "2024-02-28 11:26:53,241 - urllib3.connectionpool - DEBUG - http://open.volcengineapi.com:80 \"POST /?Action=GetCustomTask&Version=2021-10-01 HTTP/1.1\" 200 None\n",
      "2024-02-28 11:26:54,309 - urllib3.connectionpool - DEBUG - http://open.volcengineapi.com:80 \"POST /?Action=GetCustomTask&Version=2021-10-01 HTTP/1.1\" 200 None\n",
      "2024-02-28 11:26:55,423 - urllib3.connectionpool - DEBUG - http://open.volcengineapi.com:80 \"POST /?Action=GetCustomTask&Version=2021-10-01 HTTP/1.1\" 200 None\n",
      "2024-02-28 11:26:56,484 - urllib3.connectionpool - DEBUG - http://open.volcengineapi.com:80 \"POST /?Action=GetCustomTask&Version=2021-10-01 HTTP/1.1\" 200 None\n",
      "2024-02-28 11:26:57,547 - urllib3.connectionpool - DEBUG - http://open.volcengineapi.com:80 \"POST /?Action=GetCustomTask&Version=2021-10-01 HTTP/1.1\" 200 None\n",
      "2024-02-28 11:26:58,609 - urllib3.connectionpool - DEBUG - http://open.volcengineapi.com:80 \"POST /?Action=GetCustomTask&Version=2021-10-01 HTTP/1.1\" 200 None\n",
      "2024-02-28 11:26:59,672 - urllib3.connectionpool - DEBUG - http://open.volcengineapi.com:80 \"POST /?Action=GetCustomTask&Version=2021-10-01 HTTP/1.1\" 200 None\n",
      "2024-02-28 11:27:00,725 - urllib3.connectionpool - DEBUG - http://open.volcengineapi.com:80 \"POST /?Action=GetCustomTask&Version=2021-10-01 HTTP/1.1\" 200 None\n",
      "2024-02-28 11:27:01,849 - urllib3.connectionpool - DEBUG - http://open.volcengineapi.com:80 \"POST /?Action=GetCustomTask&Version=2021-10-01 HTTP/1.1\" 200 None\n",
      "2024-02-28 11:27:02,972 - urllib3.connectionpool - DEBUG - http://open.volcengineapi.com:80 \"POST /?Action=GetCustomTask&Version=2021-10-01 HTTP/1.1\" 200 None\n",
      "2024-02-28 11:27:04,103 - urllib3.connectionpool - DEBUG - http://open.volcengineapi.com:80 \"POST /?Action=GetCustomTask&Version=2021-10-01 HTTP/1.1\" 200 None\n",
      "2024-02-28 11:27:05,165 - urllib3.connectionpool - DEBUG - http://open.volcengineapi.com:80 \"POST /?Action=GetCustomTask&Version=2021-10-01 HTTP/1.1\" 200 None\n",
      "2024-02-28 11:27:06,239 - urllib3.connectionpool - DEBUG - http://open.volcengineapi.com:80 \"POST /?Action=GetCustomTask&Version=2021-10-01 HTTP/1.1\" 200 None\n",
      "2024-02-28 11:27:07,366 - urllib3.connectionpool - DEBUG - http://open.volcengineapi.com:80 \"POST /?Action=GetCustomTask&Version=2021-10-01 HTTP/1.1\" 200 None\n",
      "2024-02-28 11:27:08,418 - urllib3.connectionpool - DEBUG - http://open.volcengineapi.com:80 \"POST /?Action=GetCustomTask&Version=2021-10-01 HTTP/1.1\" 200 None\n",
      "2024-02-28 11:27:09,483 - urllib3.connectionpool - DEBUG - http://open.volcengineapi.com:80 \"POST /?Action=GetCustomTask&Version=2021-10-01 HTTP/1.1\" 200 None\n",
      "2024-02-28 11:27:10,537 - urllib3.connectionpool - DEBUG - http://open.volcengineapi.com:80 \"POST /?Action=GetCustomTask&Version=2021-10-01 HTTP/1.1\" 200 None\n",
      "2024-02-28 11:27:11,683 - urllib3.connectionpool - DEBUG - http://open.volcengineapi.com:80 \"POST /?Action=GetCustomTask&Version=2021-10-01 HTTP/1.1\" 200 None\n",
      "2024-02-28 11:27:12,823 - urllib3.connectionpool - DEBUG - http://open.volcengineapi.com:80 \"POST /?Action=GetCustomTask&Version=2021-10-01 HTTP/1.1\" 200 None\n",
      "2024-02-28 11:27:13,953 - urllib3.connectionpool - DEBUG - http://open.volcengineapi.com:80 \"POST /?Action=GetCustomTask&Version=2021-10-01 HTTP/1.1\" 200 None\n",
      "2024-02-28 11:27:15,062 - urllib3.connectionpool - DEBUG - http://open.volcengineapi.com:80 \"POST /?Action=GetCustomTask&Version=2021-10-01 HTTP/1.1\" 200 None\n",
      "2024-02-28 11:27:16,189 - urllib3.connectionpool - DEBUG - http://open.volcengineapi.com:80 \"POST /?Action=GetCustomTask&Version=2021-10-01 HTTP/1.1\" 200 None\n"
     ]
    },
    {
     "data": {
      "text/plain": [
       "<TaskStatus.COMPLETED: 3>"
      ]
     },
     "execution_count": 9,
     "metadata": {},
     "output_type": "execute_result"
    }
   ],
   "source": [
    "t = volcengine_task_manager.submit(\n",
    "    name='script_test',\n",
    "    entrypoint_path='./hello.sh')\n",
    "volcengine_task_manager.wait(t)"
   ]
  },
  {
   "cell_type": "code",
   "execution_count": 7,
   "metadata": {},
   "outputs": [
    {
     "name": "stderr",
     "output_type": "stream",
     "text": [
      "2024-02-28 10:13:35,554 - urllib3.connectionpool - DEBUG - http://open.volcengineapi.com:80 \"POST /?Action=ListCustomTasks&Version=2021-10-01 HTTP/1.1\" 200 None\n"
     ]
    },
    {
     "data": {
      "text/html": [
       "<div>\n",
       "<style scoped>\n",
       "    .dataframe tbody tr th:only-of-type {\n",
       "        vertical-align: middle;\n",
       "    }\n",
       "\n",
       "    .dataframe tbody tr th {\n",
       "        vertical-align: top;\n",
       "    }\n",
       "\n",
       "    .dataframe thead th {\n",
       "        text-align: right;\n",
       "    }\n",
       "</style>\n",
       "<table border=\"1\" class=\"dataframe\">\n",
       "  <thead>\n",
       "    <tr style=\"text-align: right;\">\n",
       "      <th></th>\n",
       "      <th>name</th>\n",
       "      <th>entrypoint_path</th>\n",
       "      <th>status</th>\n",
       "    </tr>\n",
       "    <tr>\n",
       "      <th>task_id</th>\n",
       "      <th></th>\n",
       "      <th></th>\n",
       "      <th></th>\n",
       "    </tr>\n",
       "  </thead>\n",
       "  <tbody>\n",
       "    <tr>\n",
       "      <th>20240228-101220-0280</th>\n",
       "      <td>script_test</td>\n",
       "      <td>cat /root/code/hello.sh</td>\n",
       "      <td>TaskStatus.COMPLETED</td>\n",
       "    </tr>\n",
       "  </tbody>\n",
       "</table>\n",
       "</div>"
      ],
      "text/plain": [
       "                             name          entrypoint_path  \\\n",
       "task_id                                                      \n",
       "20240228-101220-0280  script_test  cat /root/code/hello.sh   \n",
       "\n",
       "                                    status  \n",
       "task_id                                     \n",
       "20240228-101220-0280  TaskStatus.COMPLETED  "
      ]
     },
     "execution_count": 7,
     "metadata": {},
     "output_type": "execute_result"
    }
   ],
   "source": [
    "volcengine_task_manager.list()"
   ]
  },
  {
   "cell_type": "code",
   "execution_count": 15,
   "metadata": {},
   "outputs": [
    {
     "name": "stderr",
     "output_type": "stream",
     "text": [
      "2024-02-28 10:06:19,819 - urllib3.connectionpool - DEBUG - Resetting dropped connection: open.volcengineapi.com\n",
      "2024-02-28 10:06:20,063 - urllib3.connectionpool - DEBUG - http://open.volcengineapi.com:80 \"POST /?Action=GetCustomTask&Version=2021-10-01 HTTP/1.1\" 200 None\n"
     ]
    },
    {
     "data": {
      "text/plain": [
       "{'Id': 't-20240227172005-cvbx6',\n",
       " 'Name': 'hello_sh',\n",
       " 'CreateTime': '2024-02-27T09:20:05Z',\n",
       " 'LaunchTime': '2024-02-27T09:20:28Z',\n",
       " 'FinishTime': '2024-02-27T09:20:48Z',\n",
       " 'CreatorUserId': 22571628,\n",
       " 'EnableTensorBoard': False,\n",
       " 'State': 'Failed',\n",
       " 'CodeSource': '',\n",
       " 'CodeOriPath': '',\n",
       " 'ImageSpec': {'Type': 'Preset',\n",
       "  'Url': 'vemlp-cn-beijing.cr.volces.com/preset-images/slurm:0.7.0'},\n",
       " 'TOSCodePath': 'tos://ml-platform-auto-created-required-2100205915-cn-beijing/static/customtask/manifest/snapshot_ljgs9jm4hpsskt67.manifest',\n",
       " 'LocalCodePath': '/root/code',\n",
       " 'EntrypointPath': '/root/code/hello.sh',\n",
       " 'Args': '',\n",
       " 'Envs': [{'Name': 'MLP_SLURM_WORKER_CPU', 'Value': '22'},\n",
       "  {'Name': 'MLP_SLURM_WORKER_MEM', 'Value': '92160'},\n",
       "  {'Name': 'MLP_SLURM_WORKER_GPU', 'Value': '1'},\n",
       "  {'Name': 'MLP_SLURM_WORKER_GPU_TYPE', 'Value': 'GPU'},\n",
       "  {'Name': 'MLP_SLURM_PARTITION', 'Value': 'q-20240226170714-vsgh9'},\n",
       "  {'Name': 'MLP_SLURM_ARGS_FROM_CLI', 'Value': ''},\n",
       "  {'Name': 'MLP_SLURM_CLUSTER_MODE', 'Value': ''}],\n",
       " 'Framework': 'Slurm',\n",
       " 'ActiveDeadlineSeconds': 864000,\n",
       " 'DelayExitTimeSeconds': 0,\n",
       " 'HoldExitTime': '',\n",
       " 'ResourceGroupId': 'r-20240226170224-w4g7w',\n",
       " 'TaskRoleSpecs': [{'RoleName': 'worker',\n",
       "   'RoleReplicas': 2,\n",
       "   'ResourceSpecId': 'ml.xni3.5xlarge',\n",
       "   'ResourceSpec': {'FlavorID': 'ml.xni3.5xlarge', 'ZoneId': ''},\n",
       "   'RoleMinReplicas': 2,\n",
       "   'RoleMaxFailed': 0,\n",
       "   'RoleRestartPolicy': 'Never',\n",
       "   'RoleRestartMaxRetryCount': 0},\n",
       "  {'RoleName': 'master',\n",
       "   'RoleReplicas': 1,\n",
       "   'ResourceSpecId': 'ml.c1ie.large',\n",
       "   'ResourceSpec': {'FlavorID': 'ml.c1ie.large', 'ZoneId': ''},\n",
       "   'RoleMinReplicas': 1,\n",
       "   'RoleMaxFailed': 0,\n",
       "   'RoleRestartPolicy': 'Never',\n",
       "   'RoleRestartMaxRetryCount': 0}],\n",
       " 'TensorBoardPath': 'mlplatform/tensorboard/2100205915/t-20240227172005-cvbx6',\n",
       " 'ExitCode': 0,\n",
       " 'DiagInfo': 'worker-1 共 1 实例异常结束，详情请查看对应实例的失败信息和日志。',\n",
       " 'Description': 'Auto-generated from slurm batch script',\n",
       " 'ServerTime': '2024-02-28T02:06:20.004095895Z',\n",
       " 'UpdateTime': '2024-02-27T09:20:48Z',\n",
       " 'IsTrial': False,\n",
       " 'ClusterId': 'ccgv3tfmoegl0h508v820',\n",
       " 'CacheType': 'Cloudfs',\n",
       " 'ResourceQueueId': 'q-20240226170714-vsgh9',\n",
       " 'AccessTypes': ['Public'],\n",
       " 'HasPermission': True,\n",
       " 'Preemptible': False,\n",
       " 'Priority': 4,\n",
       " 'Reason': '',\n",
       " 'SourceType': 'Unknown',\n",
       " 'RetryOptions': {'EnableRetry': False},\n",
       " 'ResourceReservation': False}"
      ]
     },
     "execution_count": 15,
     "metadata": {},
     "output_type": "execute_result"
    }
   ],
   "source": [
    "volcengine_task_manager._task_client.get_custom_task('t-20240227172005-cvbx6')['Result']"
   ]
  },
  {
   "cell_type": "code",
   "execution_count": 13,
   "metadata": {},
   "outputs": [
    {
     "data": {
      "text/plain": [
       "'20240227-201125-2176'"
      ]
     },
     "execution_count": 13,
     "metadata": {},
     "output_type": "execute_result"
    },
    {
     "name": "stderr",
     "output_type": "stream",
     "text": [
      "2024-02-27 20:11:25,512 - tos.auth - DEBUG - pre-request: canonical_request:\n",
      "PUT\n",
      "/scripts/entrypoint.sh\n",
      "\n",
      "content-type:text/x-sh\n",
      "host:xtalpi-mlp.tos-cn-beijing.volces.com\n",
      "x-tos-content-sha256:UNSIGNED-PAYLOAD\n",
      "x-tos-date:20240227T121125Z\n",
      "\n",
      "content-type;host;x-tos-content-sha256;x-tos-date\n",
      "UNSIGNED-PAYLOAD\n",
      "2024-02-27 20:11:25,513 - tos.auth - DEBUG - pre-request: string_to_sign:\n",
      "TOS4-HMAC-SHA256\n",
      "20240227T121125Z\n",
      "20240227/cn-beijing/tos/request\n",
      "af4af8787fa475a14d4d20323eb087a2950cff48f73572cb00dc5be103786e6f\n",
      "2024-02-27 20:11:25,514 - tos.auth - DEBUG - pre-request: signature:\n",
      "8e3dd8b06933966bb048819a0a7814f89be622e379c394864356aebe71fc945d\n",
      "2024-02-27 20:11:25,518 - urllib3.connectionpool - DEBUG - Starting new HTTPS connection (1): xtalpi-mlp.tos-cn-beijing.volces.com:443\n",
      "2024-02-27 20:11:25,722 - urllib3.connectionpool - DEBUG - https://xtalpi-mlp.tos-cn-beijing.volces.com:443 \"PUT /scripts/entrypoint.sh HTTP/1.1\" 200 0\n",
      "2024-02-27 20:11:25,725 - tos.clientv2 - DEBUG - in-request: method:PUT host:https://xtalpi-mlp.tos-cn-beijing.volces.com/scripts/entrypoint.sh requestURI:/scripts/entrypoint.sh used time: 0.209631\n",
      "2024-02-27 20:11:25,726 - tos.utils - INFO - after-request: put_object exec httpCode: 200, requestId: 9dfe01ddd16d525965ddd16d-b28a237-1rewIv-PuO-cb-tos-front-azb-1, usedTime: 0.21129225566983223 s\n",
      "2024-02-27 20:11:25,728 - urllib3.connectionpool - DEBUG - Starting new HTTP connection (1): open.volcengineapi.com:80\n",
      "2024-02-27 20:11:26,598 - urllib3.connectionpool - DEBUG - http://open.volcengineapi.com:80 \"POST /?Action=CreateCustomTask&Version=2021-10-01 HTTP/1.1\" 200 None\n",
      "2024-02-28 10:08:52,226 - task.base - ERROR - Failed to submit task 20240228-100852-0907: [Errno 13] Permission denied: '/root/code/hello.sh'\n",
      "2024-02-28 10:10:01,755 - task.base - ERROR - Failed to submit task 20240228-101001-6604: unsupported operand type(s) for ** or pow(): 'str' and 'dict'\n"
     ]
    }
   ],
   "source": [
    "volcengine_task_manager.submit(\n",
    "    name='test-script',\n",
    "    entrypoint_path='./hello.sh'\n",
    ")"
   ]
  },
  {
   "cell_type": "code",
   "execution_count": 1,
   "metadata": {},
   "outputs": [],
   "source": [
    "import pyslurm"
   ]
  },
  {
   "cell_type": "code",
   "execution_count": 5,
   "metadata": {},
   "outputs": [
    {
     "ename": "TypeError",
     "evalue": "descriptor 'to_dict' of 'pyslurm.db.job.Job' object needs an argument",
     "output_type": "error",
     "traceback": [
      "\u001b[0;31m---------------------------------------------------------------------------\u001b[0m",
      "\u001b[0;31mTypeError\u001b[0m                                 Traceback (most recent call last)",
      "Cell \u001b[0;32mIn[5], line 1\u001b[0m\n\u001b[0;32m----> 1\u001b[0m \u001b[43mpyslurm\u001b[49m\u001b[38;5;241;43m.\u001b[39;49m\u001b[43mdb\u001b[49m\u001b[38;5;241;43m.\u001b[39;49m\u001b[43mJob\u001b[49m\u001b[38;5;241;43m.\u001b[39;49m\u001b[43mto_dict\u001b[49m\u001b[43m(\u001b[49m\u001b[43m)\u001b[49m\n",
      "\u001b[0;31mTypeError\u001b[0m: descriptor 'to_dict' of 'pyslurm.db.job.Job' object needs an argument"
     ]
    }
   ],
   "source": [
    "pyslurm.db.Job.load"
   ]
  },
  {
   "cell_type": "code",
   "execution_count": 7,
   "metadata": {},
   "outputs": [
    {
     "name": "stderr",
     "output_type": "stream",
     "text": [
      "2024-02-27 20:03:48,179 - urllib3.connectionpool - DEBUG - http://open.volcengineapi.com:80 \"POST /?Action=ListCustomTasks&Version=2021-10-01 HTTP/1.1\" 200 None\n"
     ]
    },
    {
     "data": {
      "text/html": [
       "<div>\n",
       "<style scoped>\n",
       "    .dataframe tbody tr th:only-of-type {\n",
       "        vertical-align: middle;\n",
       "    }\n",
       "\n",
       "    .dataframe tbody tr th {\n",
       "        vertical-align: top;\n",
       "    }\n",
       "\n",
       "    .dataframe thead th {\n",
       "        text-align: right;\n",
       "    }\n",
       "</style>\n",
       "<table border=\"1\" class=\"dataframe\">\n",
       "  <thead>\n",
       "    <tr style=\"text-align: right;\">\n",
       "      <th></th>\n",
       "      <th>name</th>\n",
       "      <th>entrypoint_path</th>\n",
       "      <th>status</th>\n",
       "    </tr>\n",
       "    <tr>\n",
       "      <th>task_id</th>\n",
       "      <th></th>\n",
       "      <th></th>\n",
       "      <th></th>\n",
       "    </tr>\n",
       "  </thead>\n",
       "  <tbody>\n",
       "    <tr>\n",
       "      <th>20240227-200331-8603</th>\n",
       "      <td>test-script</td>\n",
       "      <td>./hello.sh</td>\n",
       "      <td>TaskStatus.RUNNING</td>\n",
       "    </tr>\n",
       "  </tbody>\n",
       "</table>\n",
       "</div>"
      ],
      "text/plain": [
       "                             name entrypoint_path              status\n",
       "task_id                                                              \n",
       "20240227-200331-8603  test-script      ./hello.sh  TaskStatus.RUNNING"
      ]
     },
     "execution_count": 7,
     "metadata": {},
     "output_type": "execute_result"
    }
   ],
   "source": [
    "volcengine_task_manager.list()"
   ]
  },
  {
   "cell_type": "code",
   "execution_count": 5,
   "metadata": {},
   "outputs": [
    {
     "data": {
      "text/plain": [
       "'20240227-182319-1524'"
      ]
     },
     "execution_count": 5,
     "metadata": {},
     "output_type": "execute_result"
    }
   ],
   "source": [
    "volcengine_task_manager.submit(\n",
    "    name='colabfold_db',\n",
    "    entrypoint_path='MMSEQS_NO_INDEX=1 /root/code/setup_databases.sh /vepfs-mlp/hongning.zhang/colabfold_db',\n",
    "    tos_code_path='tos://xtalpi-mlp/hongning.zhang/code/download_colabfold_db.sh',\n",
    "    local_code_path='/root/code/setup_database.sh'\n",
    ")"
   ]
  },
  {
   "cell_type": "code",
   "execution_count": 8,
   "metadata": {},
   "outputs": [],
   "source": [
    "credentials = volcengine_task_manager._task_client.service_info.credentials"
   ]
  },
  {
   "cell_type": "code",
   "execution_count": 9,
   "metadata": {},
   "outputs": [],
   "source": [
    "tos_client = tos.TosClientV2(\n",
    "    ak=credentials.ak,\n",
    "    sk=credentials.sk,\n",
    "    endpoint=f'tos-{credentials.region}.volces.com',\n",
    "    region=credentials.region\n",
    ")"
   ]
  },
  {
   "cell_type": "code",
   "execution_count": null,
   "metadata": {},
   "outputs": [],
   "source": [
    "tos_client"
   ]
  },
  {
   "cell_type": "code",
   "execution_count": 11,
   "metadata": {},
   "outputs": [
    {
     "name": "stderr",
     "output_type": "stream",
     "text": [
      "2024-02-27 19:02:27,004 - tos.utils - INFO - after-request: list_buckets exec httpCode: 200, requestId: d6f601ddc14361c165ddc143-b8dd259-1revEB-LB-cb-tos-front-azc-1, usedTime: 0.04086022451519966 s\n"
     ]
    }
   ],
   "source": [
    "list_bucket = tos_client.list_buckets()"
   ]
  },
  {
   "cell_type": "code",
   "execution_count": 16,
   "metadata": {},
   "outputs": [],
   "source": [
    "bucket = list_bucket.buckets[3]"
   ]
  },
  {
   "cell_type": "code",
   "execution_count": 27,
   "metadata": {},
   "outputs": [
    {
     "name": "stderr",
     "output_type": "stream",
     "text": [
      "2024-02-27 19:13:36,243 - tos.utils - INFO - after-request: get_object exec httpCode: 200, requestId: e99801ddc3e0f77565ddc3e0-ac15c551-1revOy-GO-cb-tos-front-aza-1, usedTime: 0.18148407712578773 s\n"
     ]
    }
   ],
   "source": [
    "object_output = tos_client.get_object(\n",
    "    bucket=bucket.name,\n",
    "    key='hongning.zhang/code/download_colabfold_db.sh',\n",
    ")"
   ]
  },
  {
   "cell_type": "code",
   "execution_count": 26,
   "metadata": {},
   "outputs": [
    {
     "name": "stderr",
     "output_type": "stream",
     "text": [
      "2024-02-27 19:10:23,248 - tos.utils - INFO - after-request: get_object exec httpCode: 200, requestId: bb6501ddc31f9e8065ddc31f-b45b8f2-1revLr-GO-cb-tos-front-azb-1, usedTime: 0.23932785540819168 s\n"
     ]
    },
    {
     "data": {
      "text/plain": [
       "<tos.models2.GetObjectOutput at 0x7ff47b473220>"
      ]
     },
     "execution_count": 26,
     "metadata": {},
     "output_type": "execute_result"
    }
   ],
   "source": [
    "tos_client.get_object_to_file(\n",
    "    bucket.name,\n",
    "    'hongning.zhang/code/download_colabfold_db.sh',\n",
    "    'download_colabfold_db.sh'\n",
    ")"
   ]
  },
  {
   "cell_type": "code",
   "execution_count": 28,
   "metadata": {},
   "outputs": [
    {
     "data": {
      "text/plain": [
       "b'#!/bin/bash -ex\\n# Setup everything for using mmseqs locally\\n# Set MMSEQS_NO_INDEX to skip the index creation step (not useful for colabfold_search in most cases)\\nARIA_NUM_CONN=8\\nWORKDIR=\"${1:-$(pwd)}\"\\n\\nPDB_SERVER=\"${2:-\"rsync.wwpdb.org::ftp\"}\"\\nPDB_PORT=\"${3:-\"33444\"}\"\\n# do initial download of the PDB through aws?\\n# still syncs latest structures through rsync\\nPDB_AWS_DOWNLOAD=\"${4:-}\"\\nPDB_AWS_SNAPSHOT=\"20240101\"\\n\\nUNIREF30DB=\"uniref30_2302\"\\nMMSEQS_NO_INDEX=${MMSEQS_NO_INDEX:-}\\ncd \"${WORKDIR}\"\\n\\nhasCommand () {\\n    command -v \"$1\" >/dev/null 2>&1\\n}\\n\\nSTRATEGY=\"\"\\nif hasCommand aria2c; then STRATEGY=\"$STRATEGY ARIA\"; fi\\nif hasCommand curl;   then STRATEGY=\"$STRATEGY CURL\"; fi\\nif hasCommand wget;   then STRATEGY=\"$STRATEGY WGET\"; fi\\nif [ \"$STRATEGY\" = \"\" ]; then\\n\\t    fail \"No download tool found in PATH. Please install aria2c, curl or wget.\"\\nfi\\n\\nif [ -n \"${PDB_AWS_DOWNLOAD}\" ]; then\\n    if ! hasCommand aws; then\\n        fail \"aws command not found in PATH. Please install the aws command line tool.\"\\n    fi\\nfi\\n\\ndownloadFile() {\\n    URL=\"$1\"\\n    OUTPUT=\"$2\"\\n    set +e\\n    for i in $STRATEGY; do\\n        case \"$i\" in\\n        ARIA)\\n            FILENAME=$(basename \"${OUTPUT}\")\\n            DIR=$(dirname \"${OUTPUT}\")\\n            aria2c --max-connection-per-server=\"$ARIA_NUM_CONN\" --allow-overwrite=true -o \"$FILENAME\" -d \"$DIR\" \"$URL\" && set -e && return 0\\n            ;;\\n        CURL)\\n            curl -L -o \"$OUTPUT\" \"$URL\" && set -e && return 0\\n            ;;\\n        WGET)\\n            wget -O \"$OUTPUT\" \"$URL\" && set -e && return 0\\n            ;;\\n        esac\\n    done\\n    set -e\\n    fail \"Could not download $URL to $OUTPUT\"\\n}\\n\\n# Make MMseqs2 merge the databases to avoid spamming the folder with files\\nexport MMSEQS_FORCE_MERGE=1\\n\\nif [ ! -f UNIREF30_READY ]; then\\n  downloadFile \"https://wwwuser.gwdg.de/~compbiol/colabfold/${UNIREF30DB}.tar.gz\" \"${UNIREF30DB}.tar.gz\"\\n  tar xzvf \"${UNIREF30DB}.tar.gz\"\\n  mmseqs tsv2exprofiledb \"${UNIREF30DB}\" \"${UNIREF30DB}_db\"\\n  if [ -z \"$MMSEQS_NO_INDEX\" ]; then\\n    mmseqs createindex \"${UNIREF30DB}_db\" tmp1 --remove-tmp-files 1\\n  fi\\n  if [ -e ${UNIREF30DB}_db_mapping ]; then\\n    ln -sf ${UNIREF30DB}_db_mapping ${UNIREF30DB}_db.idx_mapping\\n  fi\\n  if [ -e ${UNIREF30DB}_db_taxonomy ]; then\\n    ln -sf ${UNIREF30DB}_db_taxonomy ${UNIREF30DB}_db.idx_taxonomy\\n  fi\\n  touch UNIREF30_READY\\nfi\\n\\nif [ ! -f COLABDB_READY ]; then\\n  downloadFile \"https://wwwuser.gwdg.de/~compbiol/colabfold/colabfold_envdb_202108.tar.gz\" \"colabfold_envdb_202108.tar.gz\"\\n  tar xzvf \"colabfold_envdb_202108.tar.gz\"\\n  mmseqs tsv2exprofiledb \"colabfold_envdb_202108\" \"colabfold_envdb_202108_db\"\\n  # TODO: split memory value for createindex?\\n  if [ -z \"$MMSEQS_NO_INDEX\" ]; then\\n    mmseqs createindex \"colabfold_envdb_202108_db\" tmp2 --remove-tmp-files 1\\n  fi\\n  touch COLABDB_READY\\nfi\\n\\nif [ ! -f PDB_READY ]; then\\n  downloadFile \"https://wwwuser.gwdg.de/~compbiol/colabfold/pdb100_230517.fasta.gz\" \"pdb100_230517.fasta.gz\"\\n  mmseqs createdb pdb100_230517.fasta.gz pdb100_230517\\n  if [ -z \"$MMSEQS_NO_INDEX\" ]; then\\n    mmseqs createindex pdb100_230517 tmp3 --remove-tmp-files 1\\n  fi\\n  touch PDB_READY\\nfi\\n\\n\\nif [ ! -f PDB100_READY ]; then\\n  downloadFile \"https://wwwuser.gwdg.de/~compbiol/data/hhsuite/databases/hhsuite_dbs/pdb100_foldseek_230517.tar.gz\" \"pdb100_foldseek_230517.tar.gz\"\\n  tar xzvf pdb100_foldseek_230517.tar.gz pdb100_a3m.ffdata pdb100_a3m.ffindex\\n  touch PDB100_READY\\nfi\\n\\nif [ ! -f PDB_MMCIF_READY ]; then\\n  mkdir -p pdb/divided\\n  mkdir -p pdb/obsolete\\n  if [ -n \"${PDB_AWS_DOWNLOAD}\" ]; then\\n    aws s3 cp --no-sign-request --recursive s3://pdbsnapshots/${PDB_AWS_SNAPSHOT}/pub/pdb/data/structures/divided/mmCIF/ pdb/divided/\\n    aws s3 cp --no-sign-request --recursive s3://pdbsnapshots/${PDB_AWS_SNAPSHOT}/pub/pdb/data/structures/obsolete/mmCIF/ pdb/obsolete/\\n  fi\\n  rsync -rlpt -v -z --delete --port=${PDB_PORT} ${PDB_SERVER}/data/structures/divided/mmCIF/ pdb/divided\\n  rsync -rlpt -v -z --delete --port=${PDB_PORT} ${PDB_SERVER}/data/structures/obsolete/mmCIF/ pdb/obsolete\\n  touch PDB_MMCIF_READY\\nfi'"
      ]
     },
     "execution_count": 28,
     "metadata": {},
     "output_type": "execute_result"
    }
   ],
   "source": [
    "object_output.read()"
   ]
  },
  {
   "cell_type": "code",
   "execution_count": 28,
   "metadata": {},
   "outputs": [
    {
     "data": {
      "text/plain": [
       "'20240227-160209-0201'"
      ]
     },
     "execution_count": 28,
     "metadata": {},
     "output_type": "execute_result"
    }
   ],
   "source": [
    "entrypoints_paths = [\n",
    "    'wget https://tos-tools.tos-cn-beijing.ivolces.com/linux/tosutil -O /vepfs-mlp/hongning.zhang/software/volc/bin/tosutil',\n",
    "    'chmod +x /vepfs-mlp/hongning.zhang/software/volc/bin/tosutil',\n",
    "    'export PATH=$PATH:/vepfs-mlp/hongning.zhang/software/volc/bin',\n",
    "    f'tosutil config -i {credentials.ak} -k {credentials.sk} -re {credentials.region} -e tos-{credentials.region}.ivolces.com',\n",
    "    f'tosutil cp tos://xtalpi-mlp/hongning.zhang/msa /vepfs-mlp/hongning.zhang/msa -r',\n",
    "]\n",
    "volcengine_task_manager.submit(\n",
    "    name='load_msa_to_vepfs',\n",
    "    entrypoint_path=' && '.join(entrypoints_paths),\n",
    "    # image_id='hsbj-registry-cn-beijing.cr.volces.com/xtalpi-mlp/colabfold:v1'\n",
    ")"
   ]
  },
  {
   "cell_type": "code",
   "execution_count": 31,
   "metadata": {},
   "outputs": [
    {
     "data": {
      "text/plain": [
       "'20240227-163850-7904'"
      ]
     },
     "execution_count": 31,
     "metadata": {},
     "output_type": "execute_result"
    }
   ],
   "source": [
    "entrypoints_paths = [\n",
    "    'colabfold_batch --num-models 5 --num-recycle 10 --model-type alphafold2_multimer_v3  /vepfs-mlp/hongning.zhang/msa  /vepfs-mlp/hongning.zhang/output',\n",
    "    f'tosutil config -i {credentials.ak} -k {credentials.sk} -re {credentials.region} -e tos-{credentials.region}.ivolces.com',\n",
    "    'tosutil cp /vepfs-mlp/hongning.zhang/output tos://xtalpi-mlp/hongning.zhang/output -r'\n",
    "]\n",
    "volcengine_task_manager.submit(\n",
    "    name='colabfold',\n",
    "    entrypoint_path=' && '.join(entrypoints_paths),\n",
    "    image_id='hsbj-registry-cn-beijing.cr.volces.com/xtalpi-mlp/colabfold:v1'\n",
    ")"
   ]
  },
  {
   "cell_type": "code",
   "execution_count": 30,
   "metadata": {},
   "outputs": [
    {
     "data": {
      "text/plain": [
       "'20240227-193446-3701'"
      ]
     },
     "execution_count": 30,
     "metadata": {},
     "output_type": "execute_result"
    }
   ],
   "source": [
    "volcengine_task_manager.submit(\n",
    "    name='colabfold_db',\n",
    "    entrypoint_path='MMSEQS_NO_INDEX=1 /vepfs-mlp/hongning.zhang/setup_databases.sh /vepfs-mlp/hongning.zhang/colabfold_db',\n",
    ")"
   ]
  },
  {
   "cell_type": "code",
   "execution_count": 34,
   "metadata": {},
   "outputs": [
    {
     "data": {
      "text/plain": [
       "'20240227-171122-7911'"
      ]
     },
     "execution_count": 34,
     "metadata": {},
     "output_type": "execute_result"
    }
   ],
   "source": [
    "entrypoints_paths = [\n",
    "    'ln -s /vepfs-mlp/hongning.zhang/.cache /root/.cache',\n",
    "    'python -m colabfold.download'\n",
    "]\n",
    "volcengine_task_manager.submit(\n",
    "    name='colabfold_download',\n",
    "    entrypoint_path=' && '.join(entrypoints_paths),\n",
    "    image_id='hsbj-registry-cn-beijing.cr.volces.com/xtalpi-mlp/colabfold:v1'\n",
    ")"
   ]
  },
  {
   "cell_type": "code",
   "execution_count": 23,
   "metadata": {},
   "outputs": [
    {
     "name": "stderr",
     "output_type": "stream",
     "text": [
      "2024-02-26 19:28:58,328 - urllib3.connectionpool - DEBUG - Starting new HTTP connection (1): open.volcengineapi.com:80\n",
      "2024-02-26 19:29:00,422 - urllib3.connectionpool - DEBUG - http://open.volcengineapi.com:80 \"POST /?Action=CreateCustomTask&Version=2021-10-01 HTTP/1.1\" 200 None\n",
      "2024-02-26 19:29:00,523 - urllib3.connectionpool - DEBUG - http://open.volcengineapi.com:80 \"POST /?Action=GetCustomTask&Version=2021-10-01 HTTP/1.1\" 200 None\n",
      "2024-02-26 19:29:00,659 - urllib3.connectionpool - DEBUG - http://open.volcengineapi.com:80 \"POST /?Action=GetCustomTask&Version=2021-10-01 HTTP/1.1\" 200 None\n",
      "2024-02-26 19:29:00,662 - task.base - DEBUG - Task 20240226-192858-8171 is TaskStatus.PENDING, waiting for afternotok to submit task 20240226-192858-5277\n",
      "2024-02-26 19:29:01,577 - urllib3.connectionpool - DEBUG - http://open.volcengineapi.com:80 \"POST /?Action=GetCustomTask&Version=2021-10-01 HTTP/1.1\" 200 None\n",
      "2024-02-26 19:29:01,722 - urllib3.connectionpool - DEBUG - http://open.volcengineapi.com:80 \"POST /?Action=GetCustomTask&Version=2021-10-01 HTTP/1.1\" 200 None\n",
      "2024-02-26 19:29:01,724 - task.base - DEBUG - Task 20240226-192858-8171 is TaskStatus.PENDING, waiting for afternotok to submit task 20240226-192858-5277\n",
      "2024-02-26 19:29:02,627 - urllib3.connectionpool - DEBUG - http://open.volcengineapi.com:80 \"POST /?Action=GetCustomTask&Version=2021-10-01 HTTP/1.1\" 200 None\n",
      "2024-02-26 19:29:02,786 - urllib3.connectionpool - DEBUG - http://open.volcengineapi.com:80 \"POST /?Action=GetCustomTask&Version=2021-10-01 HTTP/1.1\" 200 None\n",
      "2024-02-26 19:29:02,788 - task.base - DEBUG - Task 20240226-192858-8171 is TaskStatus.PENDING, waiting for afternotok to submit task 20240226-192858-5277\n",
      "2024-02-26 19:29:03,684 - urllib3.connectionpool - DEBUG - http://open.volcengineapi.com:80 \"POST /?Action=GetCustomTask&Version=2021-10-01 HTTP/1.1\" 200 None\n",
      "2024-02-26 19:29:03,857 - urllib3.connectionpool - DEBUG - http://open.volcengineapi.com:80 \"POST /?Action=GetCustomTask&Version=2021-10-01 HTTP/1.1\" 200 None\n",
      "2024-02-26 19:29:03,860 - task.base - DEBUG - Task 20240226-192858-8171 is TaskStatus.PENDING, waiting for afternotok to submit task 20240226-192858-5277\n",
      "2024-02-26 19:29:04,742 - urllib3.connectionpool - DEBUG - http://open.volcengineapi.com:80 \"POST /?Action=GetCustomTask&Version=2021-10-01 HTTP/1.1\" 200 None\n",
      "2024-02-26 19:29:04,917 - urllib3.connectionpool - DEBUG - http://open.volcengineapi.com:80 \"POST /?Action=GetCustomTask&Version=2021-10-01 HTTP/1.1\" 200 None\n",
      "2024-02-26 19:29:04,919 - task.base - DEBUG - Task 20240226-192858-8171 is TaskStatus.PENDING, waiting for afternotok to submit task 20240226-192858-5277\n",
      "2024-02-26 19:29:05,791 - urllib3.connectionpool - DEBUG - http://open.volcengineapi.com:80 \"POST /?Action=GetCustomTask&Version=2021-10-01 HTTP/1.1\" 200 None\n",
      "2024-02-26 19:29:05,992 - urllib3.connectionpool - DEBUG - http://open.volcengineapi.com:80 \"POST /?Action=GetCustomTask&Version=2021-10-01 HTTP/1.1\" 200 None\n",
      "2024-02-26 19:29:05,995 - task.base - DEBUG - Task 20240226-192858-8171 is TaskStatus.PENDING, waiting for afternotok to submit task 20240226-192858-5277\n",
      "2024-02-26 19:29:06,852 - urllib3.connectionpool - DEBUG - http://open.volcengineapi.com:80 \"POST /?Action=GetCustomTask&Version=2021-10-01 HTTP/1.1\" 200 None\n",
      "2024-02-26 19:29:07,053 - urllib3.connectionpool - DEBUG - http://open.volcengineapi.com:80 \"POST /?Action=GetCustomTask&Version=2021-10-01 HTTP/1.1\" 200 None\n",
      "2024-02-26 19:29:07,056 - task.base - DEBUG - Task 20240226-192858-8171 is TaskStatus.PENDING, waiting for afternotok to submit task 20240226-192858-5277\n",
      "2024-02-26 19:29:07,903 - urllib3.connectionpool - DEBUG - http://open.volcengineapi.com:80 \"POST /?Action=GetCustomTask&Version=2021-10-01 HTTP/1.1\" 200 None\n",
      "2024-02-26 19:29:08,111 - urllib3.connectionpool - DEBUG - http://open.volcengineapi.com:80 \"POST /?Action=GetCustomTask&Version=2021-10-01 HTTP/1.1\" 200 None\n",
      "2024-02-26 19:29:08,114 - task.base - DEBUG - Task 20240226-192858-8171 is TaskStatus.PENDING, waiting for afternotok to submit task 20240226-192858-5277\n",
      "2024-02-26 19:29:08,957 - urllib3.connectionpool - DEBUG - http://open.volcengineapi.com:80 \"POST /?Action=GetCustomTask&Version=2021-10-01 HTTP/1.1\" 200 None\n",
      "2024-02-26 19:29:09,178 - urllib3.connectionpool - DEBUG - http://open.volcengineapi.com:80 \"POST /?Action=GetCustomTask&Version=2021-10-01 HTTP/1.1\" 200 None\n",
      "2024-02-26 19:29:09,180 - task.base - DEBUG - Task 20240226-192858-8171 is TaskStatus.PENDING, waiting for afternotok to submit task 20240226-192858-5277\n",
      "2024-02-26 19:29:10,005 - urllib3.connectionpool - DEBUG - http://open.volcengineapi.com:80 \"POST /?Action=GetCustomTask&Version=2021-10-01 HTTP/1.1\" 200 None\n",
      "2024-02-26 19:29:10,234 - urllib3.connectionpool - DEBUG - http://open.volcengineapi.com:80 \"POST /?Action=GetCustomTask&Version=2021-10-01 HTTP/1.1\" 200 None\n",
      "2024-02-26 19:29:10,235 - task.base - DEBUG - Task 20240226-192858-8171 is TaskStatus.PENDING, waiting for afternotok to submit task 20240226-192858-5277\n",
      "2024-02-26 19:29:11,054 - urllib3.connectionpool - DEBUG - http://open.volcengineapi.com:80 \"POST /?Action=GetCustomTask&Version=2021-10-01 HTTP/1.1\" 200 None\n",
      "2024-02-26 19:29:11,295 - urllib3.connectionpool - DEBUG - http://open.volcengineapi.com:80 \"POST /?Action=GetCustomTask&Version=2021-10-01 HTTP/1.1\" 200 None\n",
      "2024-02-26 19:29:11,297 - task.base - DEBUG - Task 20240226-192858-8171 is TaskStatus.PENDING, waiting for afternotok to submit task 20240226-192858-5277\n",
      "2024-02-26 19:29:12,108 - urllib3.connectionpool - DEBUG - http://open.volcengineapi.com:80 \"POST /?Action=GetCustomTask&Version=2021-10-01 HTTP/1.1\" 200 None\n",
      "2024-02-26 19:29:12,351 - urllib3.connectionpool - DEBUG - http://open.volcengineapi.com:80 \"POST /?Action=GetCustomTask&Version=2021-10-01 HTTP/1.1\" 200 None\n",
      "2024-02-26 19:29:12,353 - task.base - DEBUG - Task 20240226-192858-8171 is TaskStatus.PENDING, waiting for afternotok to submit task 20240226-192858-5277\n",
      "2024-02-26 19:29:13,158 - urllib3.connectionpool - DEBUG - http://open.volcengineapi.com:80 \"POST /?Action=GetCustomTask&Version=2021-10-01 HTTP/1.1\" 200 None\n",
      "2024-02-26 19:29:13,409 - urllib3.connectionpool - DEBUG - http://open.volcengineapi.com:80 \"POST /?Action=GetCustomTask&Version=2021-10-01 HTTP/1.1\" 200 None\n",
      "2024-02-26 19:29:13,410 - task.base - DEBUG - Task 20240226-192858-8171 is TaskStatus.PENDING, waiting for afternotok to submit task 20240226-192858-5277\n",
      "2024-02-26 19:29:14,212 - urllib3.connectionpool - DEBUG - http://open.volcengineapi.com:80 \"POST /?Action=GetCustomTask&Version=2021-10-01 HTTP/1.1\" 200 None\n",
      "2024-02-26 19:29:14,465 - urllib3.connectionpool - DEBUG - http://open.volcengineapi.com:80 \"POST /?Action=GetCustomTask&Version=2021-10-01 HTTP/1.1\" 200 None\n",
      "2024-02-26 19:29:14,468 - task.base - DEBUG - Task 20240226-192858-8171 is TaskStatus.PENDING, waiting for afternotok to submit task 20240226-192858-5277\n",
      "2024-02-26 19:29:15,258 - urllib3.connectionpool - DEBUG - http://open.volcengineapi.com:80 \"POST /?Action=GetCustomTask&Version=2021-10-01 HTTP/1.1\" 200 None\n",
      "2024-02-26 19:29:15,531 - urllib3.connectionpool - DEBUG - http://open.volcengineapi.com:80 \"POST /?Action=GetCustomTask&Version=2021-10-01 HTTP/1.1\" 200 None\n",
      "2024-02-26 19:29:15,533 - task.base - DEBUG - Task 20240226-192858-8171 is TaskStatus.PENDING, waiting for afternotok to submit task 20240226-192858-5277\n",
      "2024-02-26 19:29:16,350 - urllib3.connectionpool - DEBUG - http://open.volcengineapi.com:80 \"POST /?Action=GetCustomTask&Version=2021-10-01 HTTP/1.1\" 200 None\n",
      "2024-02-26 19:29:16,591 - urllib3.connectionpool - DEBUG - http://open.volcengineapi.com:80 \"POST /?Action=GetCustomTask&Version=2021-10-01 HTTP/1.1\" 200 None\n",
      "2024-02-26 19:29:16,594 - task.base - DEBUG - Task 20240226-192858-8171 is TaskStatus.RUNNING, waiting for afternotok to submit task 20240226-192858-5277\n",
      "2024-02-26 19:29:17,397 - urllib3.connectionpool - DEBUG - http://open.volcengineapi.com:80 \"POST /?Action=GetCustomTask&Version=2021-10-01 HTTP/1.1\" 200 None\n",
      "2024-02-26 19:29:17,650 - urllib3.connectionpool - DEBUG - http://open.volcengineapi.com:80 \"POST /?Action=GetCustomTask&Version=2021-10-01 HTTP/1.1\" 200 None\n",
      "2024-02-26 19:29:17,653 - task.base - DEBUG - Task 20240226-192858-8171 is TaskStatus.RUNNING, waiting for afternotok to submit task 20240226-192858-5277\n",
      "2024-02-26 19:29:18,452 - urllib3.connectionpool - DEBUG - http://open.volcengineapi.com:80 \"POST /?Action=GetCustomTask&Version=2021-10-01 HTTP/1.1\" 200 None\n",
      "2024-02-26 19:29:18,708 - urllib3.connectionpool - DEBUG - http://open.volcengineapi.com:80 \"POST /?Action=GetCustomTask&Version=2021-10-01 HTTP/1.1\" 200 None\n",
      "2024-02-26 19:29:18,710 - task.base - DEBUG - Task 20240226-192858-8171 is TaskStatus.RUNNING, waiting for afternotok to submit task 20240226-192858-5277\n",
      "2024-02-26 19:29:19,501 - urllib3.connectionpool - DEBUG - http://open.volcengineapi.com:80 \"POST /?Action=GetCustomTask&Version=2021-10-01 HTTP/1.1\" 200 None\n",
      "2024-02-26 19:29:19,769 - urllib3.connectionpool - DEBUG - http://open.volcengineapi.com:80 \"POST /?Action=GetCustomTask&Version=2021-10-01 HTTP/1.1\" 200 None\n",
      "2024-02-26 19:29:19,771 - task.base - DEBUG - Task 20240226-192858-8171 is TaskStatus.RUNNING, waiting for afternotok to submit task 20240226-192858-5277\n",
      "2024-02-26 19:29:20,560 - urllib3.connectionpool - DEBUG - http://open.volcengineapi.com:80 \"POST /?Action=GetCustomTask&Version=2021-10-01 HTTP/1.1\" 200 None\n",
      "2024-02-26 19:29:20,836 - urllib3.connectionpool - DEBUG - http://open.volcengineapi.com:80 \"POST /?Action=GetCustomTask&Version=2021-10-01 HTTP/1.1\" 200 None\n",
      "2024-02-26 19:29:20,838 - task.base - DEBUG - Task 20240226-192858-8171 is TaskStatus.RUNNING, waiting for afternotok to submit task 20240226-192858-5277\n",
      "2024-02-26 19:29:21,615 - urllib3.connectionpool - DEBUG - http://open.volcengineapi.com:80 \"POST /?Action=GetCustomTask&Version=2021-10-01 HTTP/1.1\" 200 None\n",
      "2024-02-26 19:29:21,902 - urllib3.connectionpool - DEBUG - http://open.volcengineapi.com:80 \"POST /?Action=GetCustomTask&Version=2021-10-01 HTTP/1.1\" 200 None\n",
      "2024-02-26 19:29:21,905 - task.base - DEBUG - Task 20240226-192858-8171 is TaskStatus.RUNNING, waiting for afternotok to submit task 20240226-192858-5277\n",
      "2024-02-26 19:29:22,667 - urllib3.connectionpool - DEBUG - http://open.volcengineapi.com:80 \"POST /?Action=GetCustomTask&Version=2021-10-01 HTTP/1.1\" 200 None\n",
      "2024-02-26 19:29:22,963 - urllib3.connectionpool - DEBUG - http://open.volcengineapi.com:80 \"POST /?Action=GetCustomTask&Version=2021-10-01 HTTP/1.1\" 200 None\n",
      "2024-02-26 19:29:22,966 - task.base - DEBUG - Task 20240226-192858-8171 is TaskStatus.RUNNING, waiting for afternotok to submit task 20240226-192858-5277\n",
      "2024-02-26 19:29:23,720 - urllib3.connectionpool - DEBUG - http://open.volcengineapi.com:80 \"POST /?Action=GetCustomTask&Version=2021-10-01 HTTP/1.1\" 200 None\n",
      "2024-02-26 19:29:24,020 - urllib3.connectionpool - DEBUG - http://open.volcengineapi.com:80 \"POST /?Action=GetCustomTask&Version=2021-10-01 HTTP/1.1\" 200 None\n",
      "2024-02-26 19:29:24,023 - task.base - DEBUG - Task 20240226-192858-8171 is TaskStatus.RUNNING, waiting for afternotok to submit task 20240226-192858-5277\n",
      "2024-02-26 19:29:24,768 - urllib3.connectionpool - DEBUG - http://open.volcengineapi.com:80 \"POST /?Action=GetCustomTask&Version=2021-10-01 HTTP/1.1\" 200 None\n",
      "2024-02-26 19:29:25,081 - urllib3.connectionpool - DEBUG - http://open.volcengineapi.com:80 \"POST /?Action=GetCustomTask&Version=2021-10-01 HTTP/1.1\" 200 None\n",
      "2024-02-26 19:29:25,082 - task.base - DEBUG - Task 20240226-192858-8171 is TaskStatus.RUNNING, waiting for afternotok to submit task 20240226-192858-5277\n",
      "2024-02-26 19:29:25,819 - urllib3.connectionpool - DEBUG - http://open.volcengineapi.com:80 \"POST /?Action=GetCustomTask&Version=2021-10-01 HTTP/1.1\" 200 None\n",
      "2024-02-26 19:29:26,140 - urllib3.connectionpool - DEBUG - http://open.volcengineapi.com:80 \"POST /?Action=GetCustomTask&Version=2021-10-01 HTTP/1.1\" 200 None\n",
      "2024-02-26 19:29:26,143 - task.base - DEBUG - Task 20240226-192858-8171 is TaskStatus.RUNNING, waiting for afternotok to submit task 20240226-192858-5277\n",
      "2024-02-26 19:29:26,870 - urllib3.connectionpool - DEBUG - http://open.volcengineapi.com:80 \"POST /?Action=GetCustomTask&Version=2021-10-01 HTTP/1.1\" 200 None\n",
      "2024-02-26 19:29:27,206 - urllib3.connectionpool - DEBUG - http://open.volcengineapi.com:80 \"POST /?Action=GetCustomTask&Version=2021-10-01 HTTP/1.1\" 200 None\n",
      "2024-02-26 19:29:27,209 - task.base - DEBUG - Task 20240226-192858-8171 is TaskStatus.RUNNING, waiting for afternotok to submit task 20240226-192858-5277\n",
      "2024-02-26 19:29:27,918 - urllib3.connectionpool - DEBUG - http://open.volcengineapi.com:80 \"POST /?Action=GetCustomTask&Version=2021-10-01 HTTP/1.1\" 200 None\n",
      "2024-02-26 19:29:28,269 - urllib3.connectionpool - DEBUG - http://open.volcengineapi.com:80 \"POST /?Action=GetCustomTask&Version=2021-10-01 HTTP/1.1\" 200 None\n",
      "2024-02-26 19:29:28,271 - task.base - DEBUG - Task 20240226-192858-8171 is TaskStatus.RUNNING, waiting for afternotok to submit task 20240226-192858-5277\n",
      "2024-02-26 19:29:28,976 - urllib3.connectionpool - DEBUG - http://open.volcengineapi.com:80 \"POST /?Action=GetCustomTask&Version=2021-10-01 HTTP/1.1\" 200 None\n",
      "2024-02-26 19:29:29,332 - urllib3.connectionpool - DEBUG - http://open.volcengineapi.com:80 \"POST /?Action=GetCustomTask&Version=2021-10-01 HTTP/1.1\" 200 None\n",
      "2024-02-26 19:29:29,334 - task.base - DEBUG - Task 20240226-192858-8171 is TaskStatus.RUNNING, waiting for afternotok to submit task 20240226-192858-5277\n",
      "2024-02-26 19:29:30,029 - urllib3.connectionpool - DEBUG - http://open.volcengineapi.com:80 \"POST /?Action=GetCustomTask&Version=2021-10-01 HTTP/1.1\" 200 None\n",
      "2024-02-26 19:29:30,390 - urllib3.connectionpool - DEBUG - http://open.volcengineapi.com:80 \"POST /?Action=GetCustomTask&Version=2021-10-01 HTTP/1.1\" 200 None\n",
      "2024-02-26 19:29:30,393 - task.base - DEBUG - Task 20240226-192858-8171 is TaskStatus.RUNNING, waiting for afternotok to submit task 20240226-192858-5277\n",
      "2024-02-26 19:29:31,080 - urllib3.connectionpool - DEBUG - http://open.volcengineapi.com:80 \"POST /?Action=GetCustomTask&Version=2021-10-01 HTTP/1.1\" 200 None\n",
      "2024-02-26 19:29:31,450 - urllib3.connectionpool - DEBUG - http://open.volcengineapi.com:80 \"POST /?Action=GetCustomTask&Version=2021-10-01 HTTP/1.1\" 200 None\n",
      "2024-02-26 19:29:31,454 - task.base - DEBUG - Task 20240226-192858-8171 is TaskStatus.RUNNING, waiting for afternotok to submit task 20240226-192858-5277\n",
      "2024-02-26 19:29:32,129 - urllib3.connectionpool - DEBUG - http://open.volcengineapi.com:80 \"POST /?Action=GetCustomTask&Version=2021-10-01 HTTP/1.1\" 200 None\n",
      "2024-02-26 19:29:32,516 - urllib3.connectionpool - DEBUG - http://open.volcengineapi.com:80 \"POST /?Action=GetCustomTask&Version=2021-10-01 HTTP/1.1\" 200 None\n",
      "2024-02-26 19:29:33,366 - urllib3.connectionpool - DEBUG - http://open.volcengineapi.com:80 \"POST /?Action=CreateCustomTask&Version=2021-10-01 HTTP/1.1\" 200 None\n",
      "2024-02-26 19:29:33,433 - urllib3.connectionpool - DEBUG - http://open.volcengineapi.com:80 \"POST /?Action=GetCustomTask&Version=2021-10-01 HTTP/1.1\" 200 None\n"
     ]
    },
    {
     "data": {
      "text/plain": [
       "<TaskStatus.FAILED: 4>"
      ]
     },
     "execution_count": 23,
     "metadata": {},
     "output_type": "execute_result"
    }
   ],
   "source": [
    "task_id1 = volcengine_task_manager.submit(\n",
    "    'test_task_1',\n",
    "    'nvidia-smi; ls /vepfs-mlp/hongning.zhang -hla; exit 1'\n",
    ")\n",
    "task_id2 = volcengine_task_manager.submit(\n",
    "    'test_task_2',\n",
    "    'nvidia-smi; ls /vepfs-mlp/hongning.zhang -hla; echo ok',\n",
    "    dependencies={\n",
    "        'afternotok': task_id1\n",
    "    }\n",
    ")\n",
    "volcengine_task_manager.wait(task_id1)"
   ]
  },
  {
   "cell_type": "code",
   "execution_count": 8,
   "metadata": {},
   "outputs": [],
   "source": [
    "from task.base import TaskStatus\n",
    "\n",
    "task_id1 = volcengine_task_manager.submit(\n",
    "    name=\"test_depes_afterok_1\",\n",
    "    entrypoint_path=\"nvidia-smi; sleep 5; echo ok\",\n",
    ")\n",
    "task_id2 = volcengine_task_manager.submit(\n",
    "    name=\"test_depes_afterok_2\",\n",
    "    entrypoint_path=\"nvidia-smi; sleep 1; echo ok\",\n",
    "    dependencies={\"afterok\": task_id1}\n",
    ")\n",
    "assert task_id1 is not None\n",
    "assert task_id2 is not None\n",
    "assert volcengine_task_manager.wait(\n",
    "    task_id1, waiting_status=(TaskStatus.PENDING,)) == TaskStatus.RUNNING"
   ]
  },
  {
   "cell_type": "code",
   "execution_count": 9,
   "metadata": {},
   "outputs": [],
   "source": [
    "assert volcengine_task_manager.status(task_id2) == TaskStatus.PENDING\n",
    "assert volcengine_task_manager.wait(task_id2) == TaskStatus.COMPLETED"
   ]
  },
  {
   "cell_type": "code",
   "execution_count": 28,
   "metadata": {},
   "outputs": [],
   "source": [
    "from task.slurm import PySlurmTaskManager\n",
    "slurm_task_manager = PySlurmTaskManager('config/pyslurm_task.yaml')"
   ]
  },
  {
   "cell_type": "code",
   "execution_count": 57,
   "metadata": {},
   "outputs": [],
   "source": [
    "from task.slurm import CliSlurmTaskManager\n",
    "slurm_task_manager = CliSlurmTaskManager('config/clislurm_task.yaml')"
   ]
  },
  {
   "cell_type": "code",
   "execution_count": 60,
   "metadata": {},
   "outputs": [],
   "source": [
    "jobid=slurm_task_manager.submit(\n",
    "    'test_task',\n",
    "    'nvidia-smi; sleep 80; exit 1',\n",
    "    partitions='gpu',\n",
    ")"
   ]
  },
  {
   "cell_type": "code",
   "execution_count": 49,
   "metadata": {},
   "outputs": [
    {
     "name": "stderr",
     "output_type": "stream",
     "text": [
      "2024-02-29 15:44:12,465 - task.base - DEBUG - /data/slurm/bin/sbatch --partition gpu --gres gpu:1 --threads-per-core 1 --job-name test_cancel_task --kill-on-invalid-dep yes --parsable /tmp/tmpgldai6cn.sh\n",
      "2024-02-29 15:44:12,537 - task.base - DEBUG - /data/slurm/bin/sacct --parsable2 --format JobID,JobName,Partition,State,Elapsed --allocations --jobs 42862\n",
      "2024-02-29 15:44:13,104 - task.base - DEBUG - /data/slurm/bin/sacct --parsable2 --format JobID,JobName,Partition,State,Elapsed --allocations --jobs 42862\n",
      "2024-02-29 15:44:13,167 - task.base - DEBUG - PENDING\n",
      "2024-02-29 15:44:13,169 - task.base - DEBUG - /data/slurm/bin/sacct --parsable2 --format JobID,JobName,Partition,State,Elapsed --allocations --jobs 42862\n",
      "2024-02-29 15:44:13,217 - task.base - DEBUG - PENDING\n",
      "2024-02-29 15:44:13,218 - task.base - DEBUG - /data/slurm/bin/scancel 42862\n",
      "2024-02-29 15:44:13,245 - task.base - DEBUG - /data/slurm/bin/sacct --parsable2 --format JobID,JobName,Partition,State,Elapsed --allocations --jobs 42862\n",
      "2024-02-29 15:44:13,277 - task.base - DEBUG - PENDING\n",
      "2024-02-29 15:44:14,284 - task.base - DEBUG - /data/slurm/bin/sacct --parsable2 --format JobID,JobName,Partition,State,Elapsed --allocations --jobs 42862\n",
      "2024-02-29 15:44:14,357 - task.base - DEBUG - CANCELLED\n"
     ]
    }
   ],
   "source": [
    "task_id = slurm_task_manager.submit(\n",
    "    name=\"test_cancel_task\",\n",
    "    entrypoint_path=\"nvidia-smi; sleep 3; echo notok\",\n",
    ")\n",
    "assert task_id is not None\n",
    "assert slurm_task_manager.status(task_id) in [\n",
    "    TaskStatus.PENDING, TaskStatus.RUNNING]\n",
    "assert slurm_task_manager.cancel(task_id)\n",
    "assert slurm_task_manager.wait(task_id) == TaskStatus.CANCELLED"
   ]
  },
  {
   "cell_type": "code",
   "execution_count": 50,
   "metadata": {},
   "outputs": [
    {
     "name": "stderr",
     "output_type": "stream",
     "text": [
      "2024-02-29 15:44:23,304 - task.base - DEBUG - /data/slurm/bin/sacct --parsable2 --format JobID,JobName,Partition,State,Elapsed --allocations --jobs 42862\n"
     ]
    },
    {
     "data": {
      "text/html": [
       "<div>\n",
       "<style scoped>\n",
       "    .dataframe tbody tr th:only-of-type {\n",
       "        vertical-align: middle;\n",
       "    }\n",
       "\n",
       "    .dataframe tbody tr th {\n",
       "        vertical-align: top;\n",
       "    }\n",
       "\n",
       "    .dataframe thead th {\n",
       "        text-align: right;\n",
       "    }\n",
       "</style>\n",
       "<table border=\"1\" class=\"dataframe\">\n",
       "  <thead>\n",
       "    <tr style=\"text-align: right;\">\n",
       "      <th></th>\n",
       "      <th>JobName</th>\n",
       "      <th>Partition</th>\n",
       "      <th>State</th>\n",
       "      <th>Elapsed</th>\n",
       "    </tr>\n",
       "    <tr>\n",
       "      <th>JobID</th>\n",
       "      <th></th>\n",
       "      <th></th>\n",
       "      <th></th>\n",
       "      <th></th>\n",
       "    </tr>\n",
       "  </thead>\n",
       "  <tbody>\n",
       "    <tr>\n",
       "      <th>42862</th>\n",
       "      <td>test_cancel_task</td>\n",
       "      <td>gpu</td>\n",
       "      <td>CANCELLED</td>\n",
       "      <td>00:00:01</td>\n",
       "    </tr>\n",
       "  </tbody>\n",
       "</table>\n",
       "</div>"
      ],
      "text/plain": [
       "                JobName Partition      State   Elapsed\n",
       "JobID                                                 \n",
       "42862  test_cancel_task       gpu  CANCELLED  00:00:01"
      ]
     },
     "execution_count": 50,
     "metadata": {},
     "output_type": "execute_result"
    }
   ],
   "source": [
    "slurm_task_manager._list(task_id)"
   ]
  },
  {
   "cell_type": "code",
   "execution_count": 66,
   "metadata": {},
   "outputs": [
    {
     "name": "stderr",
     "output_type": "stream",
     "text": [
      "2024-02-29 16:04:28,840 - task.base - DEBUG - /data/slurm/bin/sbatch --partition gpu --gres gpu:1 --threads-per-core 1 --job-name test_script --kill-on-invalid-dep yes --parsable /tmp/tmpynl7vcvz.sh\n"
     ]
    },
    {
     "name": "stderr",
     "output_type": "stream",
     "text": [
      "2024-02-29 16:04:29,186 - task.base - DEBUG - /data/slurm/bin/sacct --parsable2 --format JobID,State --allocations --jobs 42887\n",
      "2024-02-29 16:04:30,216 - task.base - DEBUG - /data/slurm/bin/sacct --parsable2 --format JobID,State --allocations --jobs 42887\n",
      "2024-02-29 16:04:30,246 - task.base - DEBUG - RUNNING\n"
     ]
    },
    {
     "data": {
      "text/plain": [
       "'42887'"
      ]
     },
     "execution_count": 66,
     "metadata": {},
     "output_type": "execute_result"
    }
   ],
   "source": [
    "slurm_task_manager.submit(\n",
    "    name='test_script',\n",
    "    entrypoint_path='sleep 100'\n",
    ")"
   ]
  },
  {
   "cell_type": "code",
   "execution_count": 74,
   "metadata": {},
   "outputs": [
    {
     "name": "stderr",
     "output_type": "stream",
     "text": [
      "2024-02-29 16:06:11,621 - task.base - DEBUG - squeue -O JobID,State\n"
     ]
    }
   ],
   "source": [
    "process = slurm_task_manager._subprocess_run('squeue -O JobID,State'.split())"
   ]
  },
  {
   "cell_type": "code",
   "execution_count": 75,
   "metadata": {},
   "outputs": [],
   "source": [
    "from io import StringIO\n",
    "import pandas as pd\n",
    "\n",
    "df = pd.read_csv(StringIO(process.stdout.decode()), sep=r'\\s+')"
   ]
  },
  {
   "cell_type": "code",
   "execution_count": 76,
   "metadata": {},
   "outputs": [
    {
     "data": {
      "text/html": [
       "<div>\n",
       "<style scoped>\n",
       "    .dataframe tbody tr th:only-of-type {\n",
       "        vertical-align: middle;\n",
       "    }\n",
       "\n",
       "    .dataframe tbody tr th {\n",
       "        vertical-align: top;\n",
       "    }\n",
       "\n",
       "    .dataframe thead th {\n",
       "        text-align: right;\n",
       "    }\n",
       "</style>\n",
       "<table border=\"1\" class=\"dataframe\">\n",
       "  <thead>\n",
       "    <tr style=\"text-align: right;\">\n",
       "      <th></th>\n",
       "      <th>JOBID</th>\n",
       "      <th>STATE</th>\n",
       "    </tr>\n",
       "  </thead>\n",
       "  <tbody>\n",
       "    <tr>\n",
       "      <th>0</th>\n",
       "      <td>42888</td>\n",
       "      <td>RUNNING</td>\n",
       "    </tr>\n",
       "  </tbody>\n",
       "</table>\n",
       "</div>"
      ],
      "text/plain": [
       "   JOBID    STATE\n",
       "0  42888  RUNNING"
      ]
     },
     "execution_count": 76,
     "metadata": {},
     "output_type": "execute_result"
    }
   ],
   "source": [
    "df"
   ]
  },
  {
   "cell_type": "code",
   "execution_count": 1,
   "metadata": {},
   "outputs": [
    {
     "ename": "NameError",
     "evalue": "name 'Path' is not defined",
     "output_type": "error",
     "traceback": [
      "\u001b[0;31m---------------------------------------------------------------------------\u001b[0m",
      "\u001b[0;31mNameError\u001b[0m                                 Traceback (most recent call last)",
      "Cell \u001b[0;32mIn[1], line 1\u001b[0m\n\u001b[0;32m----> 1\u001b[0m file \u001b[38;5;241m=\u001b[39m \u001b[43mPath\u001b[49m(\u001b[38;5;124m'\u001b[39m\u001b[38;5;124mgoofys\u001b[39m\u001b[38;5;124m'\u001b[39m)\n",
      "\u001b[0;31mNameError\u001b[0m: name 'Path' is not defined"
     ]
    }
   ],
   "source": [
    "file = Path('goofys')"
   ]
  },
  {
   "cell_type": "code",
   "execution_count": 59,
   "metadata": {},
   "outputs": [
    {
     "name": "stderr",
     "output_type": "stream",
     "text": [
      "2024-02-29 15:56:02,961 - task.base - DEBUG - /data/slurm/bin/sbatch --partition gpu --gres gpu:1 --threads-per-core 1 --job-name test_depes_afterok_1-deps --kill-on-invalid-dep yes --parsable /tmp/tmprf_mwvw3.sh\n",
      "2024-02-29 15:56:02,985 - task.base - DEBUG - /data/slurm/bin/sacct --parsable2 --format JobID,JobName,Partition,State,Elapsed --allocations --jobs 42884\n",
      "2024-02-29 15:56:04,020 - task.base - DEBUG - /data/slurm/bin/sacct --parsable2 --format JobID,JobName,Partition,State,Elapsed --allocations --jobs 42884\n",
      "2024-02-29 15:56:04,051 - task.base - DEBUG - PENDING\n",
      "2024-02-29 15:56:04,057 - task.base - DEBUG - /data/slurm/bin/sbatch --partition gpu --gres gpu:1 --threads-per-core 1 --job-name test_depes_afterok_1-wants --kill-on-invalid-dep yes --parsable --dependency afterok:42884 /tmp/tmpik5a6mj0.sh\n",
      "2024-02-29 15:56:04,088 - task.base - DEBUG - /data/slurm/bin/sacct --parsable2 --format JobID,JobName,Partition,State,Elapsed --allocations --jobs 42885\n",
      "2024-02-29 15:56:05,120 - task.base - DEBUG - /data/slurm/bin/sacct --parsable2 --format JobID,JobName,Partition,State,Elapsed --allocations --jobs 42885\n",
      "2024-02-29 15:56:05,147 - task.base - DEBUG - PENDING\n",
      "2024-02-29 15:56:05,149 - task.base - DEBUG - /data/slurm/bin/sacct --parsable2 --format JobID,JobName,Partition,State,Elapsed --allocations --jobs 42884\n",
      "2024-02-29 15:56:05,172 - task.base - DEBUG - RUNNING\n",
      "2024-02-29 15:56:05,174 - task.base - DEBUG - /data/slurm/bin/sacct --parsable2 --format JobID,JobName,Partition,State,Elapsed --allocations --jobs 42885\n",
      "2024-02-29 15:56:05,205 - task.base - DEBUG - PENDING\n",
      "2024-02-29 15:56:06,208 - task.base - DEBUG - /data/slurm/bin/sacct --parsable2 --format JobID,JobName,Partition,State,Elapsed --allocations --jobs 42885\n",
      "2024-02-29 15:56:06,235 - task.base - DEBUG - PENDING\n",
      "2024-02-29 15:56:07,236 - task.base - DEBUG - /data/slurm/bin/sacct --parsable2 --format JobID,JobName,Partition,State,Elapsed --allocations --jobs 42885\n",
      "2024-02-29 15:56:07,261 - task.base - DEBUG - PENDING\n",
      "2024-02-29 15:56:08,263 - task.base - DEBUG - /data/slurm/bin/sacct --parsable2 --format JobID,JobName,Partition,State,Elapsed --allocations --jobs 42885\n",
      "2024-02-29 15:56:08,293 - task.base - DEBUG - PENDING\n",
      "2024-02-29 15:56:09,300 - task.base - DEBUG - /data/slurm/bin/sacct --parsable2 --format JobID,JobName,Partition,State,Elapsed --allocations --jobs 42885\n",
      "2024-02-29 15:56:09,330 - task.base - DEBUG - PENDING\n",
      "2024-02-29 15:56:10,336 - task.base - DEBUG - /data/slurm/bin/sacct --parsable2 --format JobID,JobName,Partition,State,Elapsed --allocations --jobs 42885\n",
      "2024-02-29 15:56:10,366 - task.base - DEBUG - PENDING\n",
      "2024-02-29 15:56:11,368 - task.base - DEBUG - /data/slurm/bin/sacct --parsable2 --format JobID,JobName,Partition,State,Elapsed --allocations --jobs 42885\n",
      "2024-02-29 15:56:11,402 - task.base - DEBUG - PENDING\n",
      "2024-02-29 15:56:12,405 - task.base - DEBUG - /data/slurm/bin/sacct --parsable2 --format JobID,JobName,Partition,State,Elapsed --allocations --jobs 42885\n",
      "2024-02-29 15:56:12,433 - task.base - DEBUG - PENDING\n",
      "2024-02-29 15:56:13,441 - task.base - DEBUG - /data/slurm/bin/sacct --parsable2 --format JobID,JobName,Partition,State,Elapsed --allocations --jobs 42885\n",
      "2024-02-29 15:56:13,484 - task.base - DEBUG - PENDING\n",
      "2024-02-29 15:56:14,486 - task.base - DEBUG - /data/slurm/bin/sacct --parsable2 --format JobID,JobName,Partition,State,Elapsed --allocations --jobs 42885\n",
      "2024-02-29 15:56:14,510 - task.base - DEBUG - PENDING\n",
      "2024-02-29 15:56:15,513 - task.base - DEBUG - /data/slurm/bin/sacct --parsable2 --format JobID,JobName,Partition,State,Elapsed --allocations --jobs 42885\n",
      "2024-02-29 15:56:15,538 - task.base - DEBUG - PENDING\n",
      "2024-02-29 15:56:16,540 - task.base - DEBUG - /data/slurm/bin/sacct --parsable2 --format JobID,JobName,Partition,State,Elapsed --allocations --jobs 42885\n",
      "2024-02-29 15:56:16,569 - task.base - DEBUG - PENDING\n",
      "2024-02-29 15:56:17,571 - task.base - DEBUG - /data/slurm/bin/sacct --parsable2 --format JobID,JobName,Partition,State,Elapsed --allocations --jobs 42885\n",
      "2024-02-29 15:56:17,598 - task.base - DEBUG - PENDING\n",
      "2024-02-29 15:56:18,601 - task.base - DEBUG - /data/slurm/bin/sacct --parsable2 --format JobID,JobName,Partition,State,Elapsed --allocations --jobs 42885\n",
      "2024-02-29 15:56:18,633 - task.base - DEBUG - PENDING\n",
      "2024-02-29 15:56:19,635 - task.base - DEBUG - /data/slurm/bin/sacct --parsable2 --format JobID,JobName,Partition,State,Elapsed --allocations --jobs 42885\n",
      "2024-02-29 15:56:19,663 - task.base - DEBUG - PENDING\n",
      "2024-02-29 15:56:20,665 - task.base - DEBUG - /data/slurm/bin/sacct --parsable2 --format JobID,JobName,Partition,State,Elapsed --allocations --jobs 42885\n",
      "2024-02-29 15:56:20,704 - task.base - DEBUG - PENDING\n",
      "2024-02-29 15:56:21,708 - task.base - DEBUG - /data/slurm/bin/sacct --parsable2 --format JobID,JobName,Partition,State,Elapsed --allocations --jobs 42885\n",
      "2024-02-29 15:56:21,738 - task.base - DEBUG - PENDING\n",
      "2024-02-29 15:56:22,740 - task.base - DEBUG - /data/slurm/bin/sacct --parsable2 --format JobID,JobName,Partition,State,Elapsed --allocations --jobs 42885\n",
      "2024-02-29 15:56:22,770 - task.base - DEBUG - PENDING\n",
      "2024-02-29 15:56:23,773 - task.base - DEBUG - /data/slurm/bin/sacct --parsable2 --format JobID,JobName,Partition,State,Elapsed --allocations --jobs 42885\n",
      "2024-02-29 15:56:23,812 - task.base - DEBUG - PENDING\n",
      "2024-02-29 15:56:24,814 - task.base - DEBUG - /data/slurm/bin/sacct --parsable2 --format JobID,JobName,Partition,State,Elapsed --allocations --jobs 42885\n",
      "2024-02-29 15:56:24,840 - task.base - DEBUG - PENDING\n",
      "2024-02-29 15:56:25,842 - task.base - DEBUG - /data/slurm/bin/sacct --parsable2 --format JobID,JobName,Partition,State,Elapsed --allocations --jobs 42885\n",
      "2024-02-29 15:56:25,867 - task.base - DEBUG - PENDING\n",
      "2024-02-29 15:56:26,869 - task.base - DEBUG - /data/slurm/bin/sacct --parsable2 --format JobID,JobName,Partition,State,Elapsed --allocations --jobs 42885\n",
      "2024-02-29 15:56:26,898 - task.base - DEBUG - PENDING\n",
      "2024-02-29 15:56:27,900 - task.base - DEBUG - /data/slurm/bin/sacct --parsable2 --format JobID,JobName,Partition,State,Elapsed --allocations --jobs 42885\n",
      "2024-02-29 15:56:27,929 - task.base - DEBUG - PENDING\n",
      "2024-02-29 15:56:28,935 - task.base - DEBUG - /data/slurm/bin/sacct --parsable2 --format JobID,JobName,Partition,State,Elapsed --allocations --jobs 42885\n",
      "2024-02-29 15:56:28,968 - task.base - DEBUG - PENDING\n",
      "2024-02-29 15:56:29,970 - task.base - DEBUG - /data/slurm/bin/sacct --parsable2 --format JobID,JobName,Partition,State,Elapsed --allocations --jobs 42885\n",
      "2024-02-29 15:56:29,994 - task.base - DEBUG - PENDING\n",
      "2024-02-29 15:56:30,997 - task.base - DEBUG - /data/slurm/bin/sacct --parsable2 --format JobID,JobName,Partition,State,Elapsed --allocations --jobs 42885\n",
      "2024-02-29 15:56:31,033 - task.base - DEBUG - PENDING\n",
      "2024-02-29 15:56:32,036 - task.base - DEBUG - /data/slurm/bin/sacct --parsable2 --format JobID,JobName,Partition,State,Elapsed --allocations --jobs 42885\n",
      "2024-02-29 15:56:32,071 - task.base - DEBUG - PENDING\n",
      "2024-02-29 15:56:33,074 - task.base - DEBUG - /data/slurm/bin/sacct --parsable2 --format JobID,JobName,Partition,State,Elapsed --allocations --jobs 42885\n",
      "2024-02-29 15:56:33,109 - task.base - DEBUG - PENDING\n",
      "2024-02-29 15:56:34,112 - task.base - DEBUG - /data/slurm/bin/sacct --parsable2 --format JobID,JobName,Partition,State,Elapsed --allocations --jobs 42885\n",
      "2024-02-29 15:56:34,139 - task.base - DEBUG - PENDING\n",
      "2024-02-29 15:56:35,140 - task.base - DEBUG - /data/slurm/bin/sacct --parsable2 --format JobID,JobName,Partition,State,Elapsed --allocations --jobs 42885\n",
      "2024-02-29 15:56:35,169 - task.base - DEBUG - PENDING\n",
      "2024-02-29 15:56:36,172 - task.base - DEBUG - /data/slurm/bin/sacct --parsable2 --format JobID,JobName,Partition,State,Elapsed --allocations --jobs 42885\n",
      "2024-02-29 15:56:36,197 - task.base - DEBUG - PENDING\n",
      "2024-02-29 15:56:37,200 - task.base - DEBUG - /data/slurm/bin/sacct --parsable2 --format JobID,JobName,Partition,State,Elapsed --allocations --jobs 42885\n",
      "2024-02-29 15:56:37,233 - task.base - DEBUG - PENDING\n",
      "2024-02-29 15:56:38,235 - task.base - DEBUG - /data/slurm/bin/sacct --parsable2 --format JobID,JobName,Partition,State,Elapsed --allocations --jobs 42885\n",
      "2024-02-29 15:56:38,260 - task.base - DEBUG - PENDING\n",
      "2024-02-29 15:56:39,264 - task.base - DEBUG - /data/slurm/bin/sacct --parsable2 --format JobID,JobName,Partition,State,Elapsed --allocations --jobs 42885\n",
      "2024-02-29 15:56:39,297 - task.base - DEBUG - PENDING\n",
      "2024-02-29 15:56:40,300 - task.base - DEBUG - /data/slurm/bin/sacct --parsable2 --format JobID,JobName,Partition,State,Elapsed --allocations --jobs 42885\n",
      "2024-02-29 15:56:40,329 - task.base - DEBUG - PENDING\n",
      "2024-02-29 15:56:41,331 - task.base - DEBUG - /data/slurm/bin/sacct --parsable2 --format JobID,JobName,Partition,State,Elapsed --allocations --jobs 42885\n",
      "2024-02-29 15:56:41,361 - task.base - DEBUG - PENDING\n",
      "2024-02-29 15:56:42,363 - task.base - DEBUG - /data/slurm/bin/sacct --parsable2 --format JobID,JobName,Partition,State,Elapsed --allocations --jobs 42885\n",
      "2024-02-29 15:56:42,396 - task.base - DEBUG - PENDING\n",
      "2024-02-29 15:56:43,400 - task.base - DEBUG - /data/slurm/bin/sacct --parsable2 --format JobID,JobName,Partition,State,Elapsed --allocations --jobs 42885\n",
      "2024-02-29 15:56:43,429 - task.base - DEBUG - PENDING\n",
      "2024-02-29 15:56:44,432 - task.base - DEBUG - /data/slurm/bin/sacct --parsable2 --format JobID,JobName,Partition,State,Elapsed --allocations --jobs 42885\n",
      "2024-02-29 15:56:44,464 - task.base - DEBUG - PENDING\n",
      "2024-02-29 15:56:45,468 - task.base - DEBUG - /data/slurm/bin/sacct --parsable2 --format JobID,JobName,Partition,State,Elapsed --allocations --jobs 42885\n",
      "2024-02-29 15:56:45,499 - task.base - DEBUG - PENDING\n",
      "2024-02-29 15:56:46,502 - task.base - DEBUG - /data/slurm/bin/sacct --parsable2 --format JobID,JobName,Partition,State,Elapsed --allocations --jobs 42885\n",
      "2024-02-29 15:56:46,529 - task.base - DEBUG - PENDING\n",
      "2024-02-29 15:56:47,532 - task.base - DEBUG - /data/slurm/bin/sacct --parsable2 --format JobID,JobName,Partition,State,Elapsed --allocations --jobs 42885\n",
      "2024-02-29 15:56:47,563 - task.base - DEBUG - PENDING\n",
      "2024-02-29 15:56:48,573 - task.base - DEBUG - /data/slurm/bin/sacct --parsable2 --format JobID,JobName,Partition,State,Elapsed --allocations --jobs 42885\n",
      "2024-02-29 15:56:48,609 - task.base - DEBUG - PENDING\n",
      "2024-02-29 15:56:49,612 - task.base - DEBUG - /data/slurm/bin/sacct --parsable2 --format JobID,JobName,Partition,State,Elapsed --allocations --jobs 42885\n",
      "2024-02-29 15:56:49,666 - task.base - DEBUG - PENDING\n",
      "2024-02-29 15:56:50,671 - task.base - DEBUG - /data/slurm/bin/sacct --parsable2 --format JobID,JobName,Partition,State,Elapsed --allocations --jobs 42885\n",
      "2024-02-29 15:56:50,726 - task.base - DEBUG - PENDING\n",
      "2024-02-29 15:56:51,728 - task.base - DEBUG - /data/slurm/bin/sacct --parsable2 --format JobID,JobName,Partition,State,Elapsed --allocations --jobs 42885\n",
      "2024-02-29 15:56:51,790 - task.base - DEBUG - PENDING\n",
      "2024-02-29 15:56:52,796 - task.base - DEBUG - /data/slurm/bin/sacct --parsable2 --format JobID,JobName,Partition,State,Elapsed --allocations --jobs 42885\n",
      "2024-02-29 15:56:52,837 - task.base - DEBUG - PENDING\n",
      "2024-02-29 15:56:53,840 - task.base - DEBUG - /data/slurm/bin/sacct --parsable2 --format JobID,JobName,Partition,State,Elapsed --allocations --jobs 42885\n",
      "2024-02-29 15:56:53,880 - task.base - DEBUG - PENDING\n",
      "2024-02-29 15:56:54,882 - task.base - DEBUG - /data/slurm/bin/sacct --parsable2 --format JobID,JobName,Partition,State,Elapsed --allocations --jobs 42885\n",
      "2024-02-29 15:56:54,944 - task.base - DEBUG - PENDING\n",
      "2024-02-29 15:56:55,952 - task.base - DEBUG - /data/slurm/bin/sacct --parsable2 --format JobID,JobName,Partition,State,Elapsed --allocations --jobs 42885\n",
      "2024-02-29 15:56:56,001 - task.base - DEBUG - PENDING\n",
      "2024-02-29 15:56:57,004 - task.base - DEBUG - /data/slurm/bin/sacct --parsable2 --format JobID,JobName,Partition,State,Elapsed --allocations --jobs 42885\n",
      "2024-02-29 15:56:57,045 - task.base - DEBUG - PENDING\n",
      "2024-02-29 15:56:58,051 - task.base - DEBUG - /data/slurm/bin/sacct --parsable2 --format JobID,JobName,Partition,State,Elapsed --allocations --jobs 42885\n",
      "2024-02-29 15:56:58,119 - task.base - DEBUG - PENDING\n",
      "2024-02-29 15:56:59,124 - task.base - DEBUG - /data/slurm/bin/sacct --parsable2 --format JobID,JobName,Partition,State,Elapsed --allocations --jobs 42885\n",
      "2024-02-29 15:56:59,205 - task.base - DEBUG - PENDING\n",
      "2024-02-29 15:57:00,208 - task.base - DEBUG - /data/slurm/bin/sacct --parsable2 --format JobID,JobName,Partition,State,Elapsed --allocations --jobs 42885\n",
      "2024-02-29 15:57:00,243 - task.base - DEBUG - PENDING\n",
      "2024-02-29 15:57:01,248 - task.base - DEBUG - /data/slurm/bin/sacct --parsable2 --format JobID,JobName,Partition,State,Elapsed --allocations --jobs 42885\n",
      "2024-02-29 15:57:01,298 - task.base - DEBUG - PENDING\n",
      "2024-02-29 15:57:02,302 - task.base - DEBUG - /data/slurm/bin/sacct --parsable2 --format JobID,JobName,Partition,State,Elapsed --allocations --jobs 42885\n",
      "2024-02-29 15:57:02,342 - task.base - DEBUG - PENDING\n",
      "2024-02-29 15:57:03,344 - task.base - DEBUG - /data/slurm/bin/sacct --parsable2 --format JobID,JobName,Partition,State,Elapsed --allocations --jobs 42885\n",
      "2024-02-29 15:57:03,384 - task.base - DEBUG - PENDING\n",
      "2024-02-29 15:57:04,390 - task.base - DEBUG - /data/slurm/bin/sacct --parsable2 --format JobID,JobName,Partition,State,Elapsed --allocations --jobs 42885\n",
      "2024-02-29 15:57:04,425 - task.base - DEBUG - PENDING\n",
      "2024-02-29 15:57:05,427 - task.base - DEBUG - /data/slurm/bin/sacct --parsable2 --format JobID,JobName,Partition,State,Elapsed --allocations --jobs 42885\n",
      "2024-02-29 15:57:05,456 - task.base - DEBUG - PENDING\n",
      "2024-02-29 15:57:06,464 - task.base - DEBUG - /data/slurm/bin/sacct --parsable2 --format JobID,JobName,Partition,State,Elapsed --allocations --jobs 42885\n",
      "2024-02-29 15:57:06,500 - task.base - DEBUG - PENDING\n",
      "2024-02-29 15:57:07,512 - task.base - DEBUG - /data/slurm/bin/sacct --parsable2 --format JobID,JobName,Partition,State,Elapsed --allocations --jobs 42885\n",
      "2024-02-29 15:57:07,553 - task.base - DEBUG - PENDING\n",
      "2024-02-29 15:57:08,560 - task.base - DEBUG - /data/slurm/bin/sacct --parsable2 --format JobID,JobName,Partition,State,Elapsed --allocations --jobs 42885\n",
      "2024-02-29 15:57:08,608 - task.base - DEBUG - PENDING\n",
      "2024-02-29 15:57:09,615 - task.base - DEBUG - /data/slurm/bin/sacct --parsable2 --format JobID,JobName,Partition,State,Elapsed --allocations --jobs 42885\n",
      "2024-02-29 15:57:09,681 - task.base - DEBUG - PENDING\n",
      "2024-02-29 15:57:10,688 - task.base - DEBUG - /data/slurm/bin/sacct --parsable2 --format JobID,JobName,Partition,State,Elapsed --allocations --jobs 42885\n",
      "2024-02-29 15:57:10,721 - task.base - DEBUG - PENDING\n",
      "2024-02-29 15:57:11,724 - task.base - DEBUG - /data/slurm/bin/sacct --parsable2 --format JobID,JobName,Partition,State,Elapsed --allocations --jobs 42885\n",
      "2024-02-29 15:57:11,760 - task.base - DEBUG - PENDING\n",
      "2024-02-29 15:57:12,762 - task.base - DEBUG - /data/slurm/bin/sacct --parsable2 --format JobID,JobName,Partition,State,Elapsed --allocations --jobs 42885\n",
      "2024-02-29 15:57:12,795 - task.base - DEBUG - PENDING\n",
      "2024-02-29 15:57:13,800 - task.base - DEBUG - /data/slurm/bin/sacct --parsable2 --format JobID,JobName,Partition,State,Elapsed --allocations --jobs 42885\n",
      "2024-02-29 15:57:13,854 - task.base - DEBUG - PENDING\n",
      "2024-02-29 15:57:14,861 - task.base - DEBUG - /data/slurm/bin/sacct --parsable2 --format JobID,JobName,Partition,State,Elapsed --allocations --jobs 42885\n",
      "2024-02-29 15:57:14,914 - task.base - DEBUG - PENDING\n",
      "2024-02-29 15:57:15,921 - task.base - DEBUG - /data/slurm/bin/sacct --parsable2 --format JobID,JobName,Partition,State,Elapsed --allocations --jobs 42885\n",
      "2024-02-29 15:57:15,954 - task.base - DEBUG - PENDING\n",
      "2024-02-29 15:57:16,958 - task.base - DEBUG - /data/slurm/bin/sacct --parsable2 --format JobID,JobName,Partition,State,Elapsed --allocations --jobs 42885\n",
      "2024-02-29 15:57:16,996 - task.base - DEBUG - PENDING\n",
      "2024-02-29 15:57:17,998 - task.base - DEBUG - /data/slurm/bin/sacct --parsable2 --format JobID,JobName,Partition,State,Elapsed --allocations --jobs 42885\n",
      "2024-02-29 15:57:18,032 - task.base - DEBUG - PENDING\n",
      "2024-02-29 15:57:19,036 - task.base - DEBUG - /data/slurm/bin/sacct --parsable2 --format JobID,JobName,Partition,State,Elapsed --allocations --jobs 42885\n",
      "2024-02-29 15:57:19,076 - task.base - DEBUG - PENDING\n",
      "2024-02-29 15:57:20,080 - task.base - DEBUG - /data/slurm/bin/sacct --parsable2 --format JobID,JobName,Partition,State,Elapsed --allocations --jobs 42885\n",
      "2024-02-29 15:57:20,124 - task.base - DEBUG - PENDING\n",
      "2024-02-29 15:57:21,126 - task.base - DEBUG - /data/slurm/bin/sacct --parsable2 --format JobID,JobName,Partition,State,Elapsed --allocations --jobs 42885\n",
      "2024-02-29 15:57:21,172 - task.base - DEBUG - PENDING\n",
      "2024-02-29 15:57:22,174 - task.base - DEBUG - /data/slurm/bin/sacct --parsable2 --format JobID,JobName,Partition,State,Elapsed --allocations --jobs 42885\n",
      "2024-02-29 15:57:22,202 - task.base - DEBUG - PENDING\n",
      "2024-02-29 15:57:23,205 - task.base - DEBUG - /data/slurm/bin/sacct --parsable2 --format JobID,JobName,Partition,State,Elapsed --allocations --jobs 42885\n",
      "2024-02-29 15:57:23,228 - task.base - DEBUG - PENDING\n",
      "2024-02-29 15:57:24,230 - task.base - DEBUG - /data/slurm/bin/sacct --parsable2 --format JobID,JobName,Partition,State,Elapsed --allocations --jobs 42885\n",
      "2024-02-29 15:57:24,257 - task.base - DEBUG - PENDING\n",
      "2024-02-29 15:57:25,261 - task.base - DEBUG - /data/slurm/bin/sacct --parsable2 --format JobID,JobName,Partition,State,Elapsed --allocations --jobs 42885\n",
      "2024-02-29 15:57:25,289 - task.base - DEBUG - PENDING\n",
      "2024-02-29 15:57:26,292 - task.base - DEBUG - /data/slurm/bin/sacct --parsable2 --format JobID,JobName,Partition,State,Elapsed --allocations --jobs 42885\n",
      "2024-02-29 15:57:26,320 - task.base - DEBUG - PENDING\n",
      "2024-02-29 15:57:27,328 - task.base - DEBUG - /data/slurm/bin/sacct --parsable2 --format JobID,JobName,Partition,State,Elapsed --allocations --jobs 42885\n",
      "2024-02-29 15:57:27,366 - task.base - DEBUG - PENDING\n",
      "2024-02-29 15:57:28,368 - task.base - DEBUG - /data/slurm/bin/sacct --parsable2 --format JobID,JobName,Partition,State,Elapsed --allocations --jobs 42885\n",
      "2024-02-29 15:57:28,396 - task.base - DEBUG - PENDING\n",
      "2024-02-29 15:57:29,399 - task.base - DEBUG - /data/slurm/bin/sacct --parsable2 --format JobID,JobName,Partition,State,Elapsed --allocations --jobs 42885\n",
      "2024-02-29 15:57:29,428 - task.base - DEBUG - PENDING\n",
      "2024-02-29 15:57:30,430 - task.base - DEBUG - /data/slurm/bin/sacct --parsable2 --format JobID,JobName,Partition,State,Elapsed --allocations --jobs 42885\n",
      "2024-02-29 15:57:30,456 - task.base - DEBUG - PENDING\n",
      "2024-02-29 15:57:31,460 - task.base - DEBUG - /data/slurm/bin/sacct --parsable2 --format JobID,JobName,Partition,State,Elapsed --allocations --jobs 42885\n",
      "2024-02-29 15:57:31,486 - task.base - DEBUG - PENDING\n",
      "2024-02-29 15:57:32,489 - task.base - DEBUG - /data/slurm/bin/sacct --parsable2 --format JobID,JobName,Partition,State,Elapsed --allocations --jobs 42885\n",
      "2024-02-29 15:57:32,524 - task.base - DEBUG - PENDING\n",
      "2024-02-29 15:57:33,531 - task.base - DEBUG - /data/slurm/bin/sacct --parsable2 --format JobID,JobName,Partition,State,Elapsed --allocations --jobs 42885\n",
      "2024-02-29 15:57:33,561 - task.base - DEBUG - PENDING\n",
      "2024-02-29 15:57:34,565 - task.base - DEBUG - /data/slurm/bin/sacct --parsable2 --format JobID,JobName,Partition,State,Elapsed --allocations --jobs 42885\n",
      "2024-02-29 15:57:34,588 - task.base - DEBUG - PENDING\n",
      "2024-02-29 15:57:35,592 - task.base - DEBUG - /data/slurm/bin/sacct --parsable2 --format JobID,JobName,Partition,State,Elapsed --allocations --jobs 42885\n",
      "2024-02-29 15:57:35,624 - task.base - DEBUG - PENDING\n",
      "2024-02-29 15:57:36,628 - task.base - DEBUG - /data/slurm/bin/sacct --parsable2 --format JobID,JobName,Partition,State,Elapsed --allocations --jobs 42885\n",
      "2024-02-29 15:57:36,663 - task.base - DEBUG - PENDING\n",
      "2024-02-29 15:57:37,666 - task.base - DEBUG - /data/slurm/bin/sacct --parsable2 --format JobID,JobName,Partition,State,Elapsed --allocations --jobs 42885\n",
      "2024-02-29 15:57:37,688 - task.base - DEBUG - PENDING\n",
      "2024-02-29 15:57:38,691 - task.base - DEBUG - /data/slurm/bin/sacct --parsable2 --format JobID,JobName,Partition,State,Elapsed --allocations --jobs 42885\n",
      "2024-02-29 15:57:38,719 - task.base - DEBUG - PENDING\n",
      "2024-02-29 15:57:39,722 - task.base - DEBUG - /data/slurm/bin/sacct --parsable2 --format JobID,JobName,Partition,State,Elapsed --allocations --jobs 42885\n",
      "2024-02-29 15:57:39,744 - task.base - DEBUG - PENDING\n",
      "2024-02-29 15:57:40,747 - task.base - DEBUG - /data/slurm/bin/sacct --parsable2 --format JobID,JobName,Partition,State,Elapsed --allocations --jobs 42885\n",
      "2024-02-29 15:57:40,770 - task.base - DEBUG - PENDING\n",
      "2024-02-29 15:57:41,773 - task.base - DEBUG - /data/slurm/bin/sacct --parsable2 --format JobID,JobName,Partition,State,Elapsed --allocations --jobs 42885\n",
      "2024-02-29 15:57:41,803 - task.base - DEBUG - PENDING\n",
      "2024-02-29 15:57:42,808 - task.base - DEBUG - /data/slurm/bin/sacct --parsable2 --format JobID,JobName,Partition,State,Elapsed --allocations --jobs 42885\n",
      "2024-02-29 15:57:42,837 - task.base - DEBUG - PENDING\n",
      "2024-02-29 15:57:43,843 - task.base - DEBUG - /data/slurm/bin/sacct --parsable2 --format JobID,JobName,Partition,State,Elapsed --allocations --jobs 42885\n",
      "2024-02-29 15:57:43,875 - task.base - DEBUG - PENDING\n",
      "2024-02-29 15:57:44,878 - task.base - DEBUG - /data/slurm/bin/sacct --parsable2 --format JobID,JobName,Partition,State,Elapsed --allocations --jobs 42885\n",
      "2024-02-29 15:57:44,907 - task.base - DEBUG - PENDING\n",
      "2024-02-29 15:57:45,911 - task.base - DEBUG - /data/slurm/bin/sacct --parsable2 --format JobID,JobName,Partition,State,Elapsed --allocations --jobs 42885\n",
      "2024-02-29 15:57:45,946 - task.base - DEBUG - PENDING\n",
      "2024-02-29 15:57:46,949 - task.base - DEBUG - /data/slurm/bin/sacct --parsable2 --format JobID,JobName,Partition,State,Elapsed --allocations --jobs 42885\n",
      "2024-02-29 15:57:46,986 - task.base - DEBUG - PENDING\n",
      "2024-02-29 15:57:47,990 - task.base - DEBUG - /data/slurm/bin/sacct --parsable2 --format JobID,JobName,Partition,State,Elapsed --allocations --jobs 42885\n",
      "2024-02-29 15:57:48,032 - task.base - DEBUG - PENDING\n",
      "2024-02-29 15:57:49,035 - task.base - DEBUG - /data/slurm/bin/sacct --parsable2 --format JobID,JobName,Partition,State,Elapsed --allocations --jobs 42885\n",
      "2024-02-29 15:57:49,061 - task.base - DEBUG - PENDING\n",
      "2024-02-29 15:57:50,067 - task.base - DEBUG - /data/slurm/bin/sacct --parsable2 --format JobID,JobName,Partition,State,Elapsed --allocations --jobs 42885\n",
      "2024-02-29 15:57:50,090 - task.base - DEBUG - PENDING\n",
      "2024-02-29 15:57:51,093 - task.base - DEBUG - /data/slurm/bin/sacct --parsable2 --format JobID,JobName,Partition,State,Elapsed --allocations --jobs 42885\n",
      "2024-02-29 15:57:51,122 - task.base - DEBUG - PENDING\n",
      "2024-02-29 15:57:52,126 - task.base - DEBUG - /data/slurm/bin/sacct --parsable2 --format JobID,JobName,Partition,State,Elapsed --allocations --jobs 42885\n",
      "2024-02-29 15:57:52,160 - task.base - DEBUG - PENDING\n",
      "2024-02-29 15:57:53,163 - task.base - DEBUG - /data/slurm/bin/sacct --parsable2 --format JobID,JobName,Partition,State,Elapsed --allocations --jobs 42885\n",
      "2024-02-29 15:57:53,192 - task.base - DEBUG - PENDING\n",
      "2024-02-29 15:57:54,198 - task.base - DEBUG - /data/slurm/bin/sacct --parsable2 --format JobID,JobName,Partition,State,Elapsed --allocations --jobs 42885\n",
      "2024-02-29 15:57:54,225 - task.base - DEBUG - PENDING\n",
      "2024-02-29 15:57:55,228 - task.base - DEBUG - /data/slurm/bin/sacct --parsable2 --format JobID,JobName,Partition,State,Elapsed --allocations --jobs 42885\n",
      "2024-02-29 15:57:55,257 - task.base - DEBUG - PENDING\n",
      "2024-02-29 15:57:56,263 - task.base - DEBUG - /data/slurm/bin/sacct --parsable2 --format JobID,JobName,Partition,State,Elapsed --allocations --jobs 42885\n",
      "2024-02-29 15:57:56,298 - task.base - DEBUG - PENDING\n",
      "2024-02-29 15:57:57,303 - task.base - DEBUG - /data/slurm/bin/sacct --parsable2 --format JobID,JobName,Partition,State,Elapsed --allocations --jobs 42885\n",
      "2024-02-29 15:57:57,337 - task.base - DEBUG - PENDING\n",
      "2024-02-29 15:57:58,339 - task.base - DEBUG - /data/slurm/bin/sacct --parsable2 --format JobID,JobName,Partition,State,Elapsed --allocations --jobs 42885\n",
      "2024-02-29 15:57:58,364 - task.base - DEBUG - PENDING\n",
      "2024-02-29 15:57:59,370 - task.base - DEBUG - /data/slurm/bin/sacct --parsable2 --format JobID,JobName,Partition,State,Elapsed --allocations --jobs 42885\n",
      "2024-02-29 15:57:59,399 - task.base - DEBUG - PENDING\n",
      "2024-02-29 15:58:00,401 - task.base - DEBUG - /data/slurm/bin/sacct --parsable2 --format JobID,JobName,Partition,State,Elapsed --allocations --jobs 42885\n",
      "2024-02-29 15:58:00,433 - task.base - DEBUG - PENDING\n",
      "2024-02-29 15:58:01,436 - task.base - DEBUG - /data/slurm/bin/sacct --parsable2 --format JobID,JobName,Partition,State,Elapsed --allocations --jobs 42885\n",
      "2024-02-29 15:58:01,467 - task.base - DEBUG - PENDING\n",
      "2024-02-29 15:58:02,470 - task.base - DEBUG - /data/slurm/bin/sacct --parsable2 --format JobID,JobName,Partition,State,Elapsed --allocations --jobs 42885\n",
      "2024-02-29 15:58:02,499 - task.base - DEBUG - PENDING\n",
      "2024-02-29 15:58:03,502 - task.base - DEBUG - /data/slurm/bin/sacct --parsable2 --format JobID,JobName,Partition,State,Elapsed --allocations --jobs 42885\n",
      "2024-02-29 15:58:03,532 - task.base - DEBUG - PENDING\n",
      "2024-02-29 15:58:04,534 - task.base - DEBUG - /data/slurm/bin/sacct --parsable2 --format JobID,JobName,Partition,State,Elapsed --allocations --jobs 42885\n",
      "2024-02-29 15:58:04,567 - task.base - DEBUG - PENDING\n",
      "2024-02-29 15:58:05,568 - task.base - DEBUG - /data/slurm/bin/sacct --parsable2 --format JobID,JobName,Partition,State,Elapsed --allocations --jobs 42885\n",
      "2024-02-29 15:58:05,595 - task.base - DEBUG - PENDING\n",
      "2024-02-29 15:58:06,600 - task.base - DEBUG - /data/slurm/bin/sacct --parsable2 --format JobID,JobName,Partition,State,Elapsed --allocations --jobs 42885\n",
      "2024-02-29 15:58:06,627 - task.base - DEBUG - PENDING\n",
      "2024-02-29 15:58:07,632 - task.base - DEBUG - /data/slurm/bin/sacct --parsable2 --format JobID,JobName,Partition,State,Elapsed --allocations --jobs 42885\n",
      "2024-02-29 15:58:07,661 - task.base - DEBUG - PENDING\n",
      "2024-02-29 15:58:08,664 - task.base - DEBUG - /data/slurm/bin/sacct --parsable2 --format JobID,JobName,Partition,State,Elapsed --allocations --jobs 42885\n",
      "2024-02-29 15:58:08,695 - task.base - DEBUG - PENDING\n",
      "2024-02-29 15:58:09,697 - task.base - DEBUG - /data/slurm/bin/sacct --parsable2 --format JobID,JobName,Partition,State,Elapsed --allocations --jobs 42885\n",
      "2024-02-29 15:58:09,730 - task.base - DEBUG - PENDING\n",
      "2024-02-29 15:58:10,736 - task.base - DEBUG - /data/slurm/bin/sacct --parsable2 --format JobID,JobName,Partition,State,Elapsed --allocations --jobs 42885\n",
      "2024-02-29 15:58:10,766 - task.base - DEBUG - PENDING\n",
      "2024-02-29 15:58:11,774 - task.base - DEBUG - /data/slurm/bin/sacct --parsable2 --format JobID,JobName,Partition,State,Elapsed --allocations --jobs 42885\n",
      "2024-02-29 15:58:11,797 - task.base - DEBUG - PENDING\n",
      "2024-02-29 15:58:12,800 - task.base - DEBUG - /data/slurm/bin/sacct --parsable2 --format JobID,JobName,Partition,State,Elapsed --allocations --jobs 42885\n",
      "2024-02-29 15:58:12,836 - task.base - DEBUG - PENDING\n",
      "2024-02-29 15:58:13,839 - task.base - DEBUG - /data/slurm/bin/sacct --parsable2 --format JobID,JobName,Partition,State,Elapsed --allocations --jobs 42885\n",
      "2024-02-29 15:58:13,874 - task.base - DEBUG - PENDING\n",
      "2024-02-29 15:58:14,877 - task.base - DEBUG - /data/slurm/bin/sacct --parsable2 --format JobID,JobName,Partition,State,Elapsed --allocations --jobs 42885\n",
      "2024-02-29 15:58:14,905 - task.base - DEBUG - PENDING\n",
      "2024-02-29 15:58:15,908 - task.base - DEBUG - /data/slurm/bin/sacct --parsable2 --format JobID,JobName,Partition,State,Elapsed --allocations --jobs 42885\n",
      "2024-02-29 15:58:15,945 - task.base - DEBUG - PENDING\n",
      "2024-02-29 15:58:16,948 - task.base - DEBUG - /data/slurm/bin/sacct --parsable2 --format JobID,JobName,Partition,State,Elapsed --allocations --jobs 42885\n",
      "2024-02-29 15:58:16,974 - task.base - DEBUG - PENDING\n",
      "2024-02-29 15:58:17,976 - task.base - DEBUG - /data/slurm/bin/sacct --parsable2 --format JobID,JobName,Partition,State,Elapsed --allocations --jobs 42885\n",
      "2024-02-29 15:58:18,009 - task.base - DEBUG - PENDING\n",
      "2024-02-29 15:58:19,015 - task.base - DEBUG - /data/slurm/bin/sacct --parsable2 --format JobID,JobName,Partition,State,Elapsed --allocations --jobs 42885\n",
      "2024-02-29 15:58:19,049 - task.base - DEBUG - PENDING\n",
      "2024-02-29 15:58:20,052 - task.base - DEBUG - /data/slurm/bin/sacct --parsable2 --format JobID,JobName,Partition,State,Elapsed --allocations --jobs 42885\n",
      "2024-02-29 15:58:20,089 - task.base - DEBUG - PENDING\n",
      "2024-02-29 15:58:21,094 - task.base - DEBUG - /data/slurm/bin/sacct --parsable2 --format JobID,JobName,Partition,State,Elapsed --allocations --jobs 42885\n",
      "2024-02-29 15:58:21,124 - task.base - DEBUG - PENDING\n",
      "2024-02-29 15:58:22,127 - task.base - DEBUG - /data/slurm/bin/sacct --parsable2 --format JobID,JobName,Partition,State,Elapsed --allocations --jobs 42885\n",
      "2024-02-29 15:58:22,158 - task.base - DEBUG - PENDING\n",
      "2024-02-29 15:58:23,162 - task.base - DEBUG - /data/slurm/bin/sacct --parsable2 --format JobID,JobName,Partition,State,Elapsed --allocations --jobs 42885\n",
      "2024-02-29 15:58:23,193 - task.base - DEBUG - PENDING\n",
      "2024-02-29 15:58:24,196 - task.base - DEBUG - /data/slurm/bin/sacct --parsable2 --format JobID,JobName,Partition,State,Elapsed --allocations --jobs 42885\n",
      "2024-02-29 15:58:24,221 - task.base - DEBUG - PENDING\n",
      "2024-02-29 15:58:25,224 - task.base - DEBUG - /data/slurm/bin/sacct --parsable2 --format JobID,JobName,Partition,State,Elapsed --allocations --jobs 42885\n",
      "2024-02-29 15:58:25,252 - task.base - DEBUG - PENDING\n",
      "2024-02-29 15:58:26,255 - task.base - DEBUG - /data/slurm/bin/sacct --parsable2 --format JobID,JobName,Partition,State,Elapsed --allocations --jobs 42885\n",
      "2024-02-29 15:58:26,291 - task.base - DEBUG - PENDING\n",
      "2024-02-29 15:58:27,294 - task.base - DEBUG - /data/slurm/bin/sacct --parsable2 --format JobID,JobName,Partition,State,Elapsed --allocations --jobs 42885\n",
      "2024-02-29 15:58:27,323 - task.base - DEBUG - PENDING\n",
      "2024-02-29 15:58:28,326 - task.base - DEBUG - /data/slurm/bin/sacct --parsable2 --format JobID,JobName,Partition,State,Elapsed --allocations --jobs 42885\n",
      "2024-02-29 15:58:28,357 - task.base - DEBUG - PENDING\n",
      "2024-02-29 15:58:29,365 - task.base - DEBUG - /data/slurm/bin/sacct --parsable2 --format JobID,JobName,Partition,State,Elapsed --allocations --jobs 42885\n",
      "2024-02-29 15:58:29,393 - task.base - DEBUG - PENDING\n",
      "2024-02-29 15:58:30,396 - task.base - DEBUG - /data/slurm/bin/sacct --parsable2 --format JobID,JobName,Partition,State,Elapsed --allocations --jobs 42885\n",
      "2024-02-29 15:58:30,421 - task.base - DEBUG - PENDING\n",
      "2024-02-29 15:58:31,423 - task.base - DEBUG - /data/slurm/bin/sacct --parsable2 --format JobID,JobName,Partition,State,Elapsed --allocations --jobs 42885\n",
      "2024-02-29 15:58:31,449 - task.base - DEBUG - PENDING\n",
      "2024-02-29 15:58:32,451 - task.base - DEBUG - /data/slurm/bin/sacct --parsable2 --format JobID,JobName,Partition,State,Elapsed --allocations --jobs 42885\n",
      "2024-02-29 15:58:32,483 - task.base - DEBUG - PENDING\n",
      "2024-02-29 15:58:33,486 - task.base - DEBUG - /data/slurm/bin/sacct --parsable2 --format JobID,JobName,Partition,State,Elapsed --allocations --jobs 42885\n",
      "2024-02-29 15:58:33,517 - task.base - DEBUG - PENDING\n",
      "2024-02-29 15:58:34,519 - task.base - DEBUG - /data/slurm/bin/sacct --parsable2 --format JobID,JobName,Partition,State,Elapsed --allocations --jobs 42885\n",
      "2024-02-29 15:58:34,548 - task.base - DEBUG - PENDING\n",
      "2024-02-29 15:58:35,551 - task.base - DEBUG - /data/slurm/bin/sacct --parsable2 --format JobID,JobName,Partition,State,Elapsed --allocations --jobs 42885\n",
      "2024-02-29 15:58:35,581 - task.base - DEBUG - RUNNING\n",
      "2024-02-29 15:58:36,585 - task.base - DEBUG - /data/slurm/bin/sacct --parsable2 --format JobID,JobName,Partition,State,Elapsed --allocations --jobs 42885\n",
      "2024-02-29 15:58:36,614 - task.base - DEBUG - RUNNING\n",
      "2024-02-29 15:58:37,616 - task.base - DEBUG - /data/slurm/bin/sacct --parsable2 --format JobID,JobName,Partition,State,Elapsed --allocations --jobs 42885\n",
      "2024-02-29 15:58:37,646 - task.base - DEBUG - COMPLETED\n"
     ]
    }
   ],
   "source": [
    "task_id1 = slurm_task_manager.submit(\n",
    "    name=\"test_depes_afterok_1-deps\",\n",
    "    entrypoint_path=\"nvidia-smi; sleep 150; echo ok\",\n",
    ")\n",
    "task_id2 = slurm_task_manager.submit(\n",
    "    name=\"test_depes_afterok_1-wants\",\n",
    "    entrypoint_path=\"nvidia-smi; sleep 1; echo ok\",\n",
    "    dependencies={\"afterok\": task_id1}\n",
    ")\n",
    "assert task_id1 is not None\n",
    "assert task_id2 is not None\n",
    "assert slurm_task_manager.wait(\n",
    "    task_id1, waiting_status=(TaskStatus.PENDING,)) in [\n",
    "        TaskStatus.RUNNING, TaskStatus.COMPLETED]\n",
    "assert slurm_task_manager.wait(task_id2) == TaskStatus.COMPLETED"
   ]
  },
  {
   "cell_type": "code",
   "execution_count": 55,
   "metadata": {},
   "outputs": [
    {
     "name": "stderr",
     "output_type": "stream",
     "text": [
      "2024-02-29 15:48:32,549 - task.base - DEBUG - /data/slurm/bin/sacct --parsable2 --format JobID,JobName,Partition,State,Elapsed --allocations --jobs 42864\n"
     ]
    },
    {
     "name": "stderr",
     "output_type": "stream",
     "text": [
      "2024-02-29 15:48:32,581 - task.base - DEBUG - COMPLETED\n"
     ]
    },
    {
     "data": {
      "text/plain": [
       "<TaskStatus.COMPLETED: 3>"
      ]
     },
     "execution_count": 55,
     "metadata": {},
     "output_type": "execute_result"
    }
   ],
   "source": [
    "slurm_task_manager.status('42864')"
   ]
  },
  {
   "cell_type": "code",
   "execution_count": 36,
   "metadata": {},
   "outputs": [
    {
     "data": {
      "text/plain": [
       "<TaskStatus.COMPLETED: 3>"
      ]
     },
     "execution_count": 36,
     "metadata": {},
     "output_type": "execute_result"
    }
   ],
   "source": [
    "slurm_task_manager.status(jobid)"
   ]
  },
  {
   "cell_type": "code",
   "execution_count": 66,
   "metadata": {},
   "outputs": [
    {
     "data": {
      "text/html": [
       "<div>\n",
       "<style scoped>\n",
       "    .dataframe tbody tr th:only-of-type {\n",
       "        vertical-align: middle;\n",
       "    }\n",
       "\n",
       "    .dataframe tbody tr th {\n",
       "        vertical-align: top;\n",
       "    }\n",
       "\n",
       "    .dataframe thead th {\n",
       "        text-align: right;\n",
       "    }\n",
       "</style>\n",
       "<table border=\"1\" class=\"dataframe\">\n",
       "  <thead>\n",
       "    <tr style=\"text-align: right;\">\n",
       "      <th></th>\n",
       "      <th>name</th>\n",
       "      <th>entrypoint_path</th>\n",
       "      <th>status</th>\n",
       "    </tr>\n",
       "    <tr>\n",
       "      <th>task_id</th>\n",
       "      <th></th>\n",
       "      <th></th>\n",
       "      <th></th>\n",
       "    </tr>\n",
       "  </thead>\n",
       "  <tbody>\n",
       "    <tr>\n",
       "      <th>42670</th>\n",
       "      <td>test_task</td>\n",
       "      <td>nvidia-smi; sleep 80; exit 1</td>\n",
       "      <td>TaskStatus.FAILED</td>\n",
       "    </tr>\n",
       "    <tr>\n",
       "      <th>42671</th>\n",
       "      <td>test_task</td>\n",
       "      <td>nvidia-smi</td>\n",
       "      <td>TaskStatus.PENDING</td>\n",
       "    </tr>\n",
       "    <tr>\n",
       "      <th>42672</th>\n",
       "      <td>test_task</td>\n",
       "      <td>nvidia-smi</td>\n",
       "      <td>TaskStatus.COMPLETED</td>\n",
       "    </tr>\n",
       "  </tbody>\n",
       "</table>\n",
       "</div>"
      ],
      "text/plain": [
       "              name               entrypoint_path                status\n",
       "task_id                                                               \n",
       "42670    test_task  nvidia-smi; sleep 80; exit 1     TaskStatus.FAILED\n",
       "42671    test_task                    nvidia-smi    TaskStatus.PENDING\n",
       "42672    test_task                    nvidia-smi  TaskStatus.COMPLETED"
      ]
     },
     "execution_count": 66,
     "metadata": {},
     "output_type": "execute_result"
    }
   ],
   "source": [
    "slurm_task_manager.list()"
   ]
  },
  {
   "cell_type": "code",
   "execution_count": 68,
   "metadata": {},
   "outputs": [],
   "source": [
    "slurm_task_manager.cancel(42671)"
   ]
  },
  {
   "cell_type": "code",
   "execution_count": null,
   "metadata": {},
   "outputs": [],
   "source": [
    "slurm_task_manager.cancel(jobid)\n",
    "slurm_task_manager.list()\n",
    "slurm_task_manager.wait(jobid)"
   ]
  },
  {
   "cell_type": "code",
   "execution_count": 6,
   "metadata": {},
   "outputs": [
    {
     "name": "stdout",
     "output_type": "stream",
     "text": [
      "42691\n",
      "             JOBID PARTITION     NAME     USER ST       TIME  NODES NODELIST(REASON)\n",
      "             42691       gpu test_can hongning PD       0:00      1 (None)\n"
     ]
    }
   ],
   "source": [
    "task_id = slurm_task_manager.submit(\n",
    "            name=\"test_cancel_task\",\n",
    "            entrypoint_path=\"nvidia-smi; sleep 1; echo notok\")\n",
    "print(task_id)\n",
    "!/data/slurm/bin/squeue -u hongning.zhang"
   ]
  },
  {
   "cell_type": "code",
   "execution_count": null,
   "metadata": {},
   "outputs": [],
   "source": []
  }
 ],
 "metadata": {
  "kernelspec": {
   "display_name": "base",
   "language": "python",
   "name": "python3"
  },
  "language_info": {
   "codemirror_mode": {
    "name": "ipython",
    "version": 3
   },
   "file_extension": ".py",
   "mimetype": "text/x-python",
   "name": "python",
   "nbconvert_exporter": "python",
   "pygments_lexer": "ipython3",
   "version": "3.8.18"
  }
 },
 "nbformat": 4,
 "nbformat_minor": 2
}
